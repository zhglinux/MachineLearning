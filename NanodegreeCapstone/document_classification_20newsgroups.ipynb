{
 "cells": [
  {
   "cell_type": "markdown",
   "metadata": {},
   "source": [
    "# 开发环境"
   ]
  },
  {
   "cell_type": "code",
   "execution_count": 79,
   "metadata": {
    "scrolled": false
   },
   "outputs": [
    {
     "name": "stdout",
     "output_type": "stream",
     "text": [
      "python版本：\n",
      "3.6.6 |Anaconda, Inc.| (default, Jun 28 2018, 11:27:44) [MSC v.1900 64 bit (AMD64)]\n",
      "sys.version_info(major=3, minor=6, micro=6, releaselevel='final', serial=0)\n"
     ]
    }
   ],
   "source": [
    "#%matplotlib inline\n",
    "import matplotlib as mpl\n",
    "import matplotlib.pyplot as plt\n",
    "import pandas as pd\n",
    "import seaborn as sns\n",
    "import numpy as np\n",
    "import sys \n",
    "print('python版本：')\n",
    "print(sys.version) \n",
    "print(sys.version_info)"
   ]
  },
  {
   "cell_type": "markdown",
   "metadata": {},
   "source": [
    "# 数据探索"
   ]
  },
  {
   "cell_type": "markdown",
   "metadata": {},
   "source": [
    "#### 获得20类新闻包的数据集"
   ]
  },
  {
   "cell_type": "code",
   "execution_count": 80,
   "metadata": {
    "scrolled": true
   },
   "outputs": [],
   "source": [
    "# 数据加载\n",
    "from sklearn.datasets import fetch_20newsgroups\n",
    "from sklearn.datasets import get_data_home\n",
    "from pprint import pprint\n",
    "\n",
    "#sklearn.datasets.fetch_20newsgroups(data_home=None, subset=’train’, categories=None, shuffle=True, random_state=42, remove=(), download_if_missing=True)\n",
    "\n",
    "#fetch_20newsgroups(shuffle = True, random_state = 42)\n",
    "newsgroups_data  = fetch_20newsgroups(subset = 'all', shuffle = True, random_state = 42)\n",
    "newsgroups_train = fetch_20newsgroups(subset = 'train', shuffle = True, random_state = 42)\n",
    "newsgroups_test = fetch_20newsgroups(subset='test', shuffle = True, random_state = 42)\n"
   ]
  },
  {
   "cell_type": "markdown",
   "metadata": {},
   "source": [
    "了解数据集总的大小，测试集，训练集的大小"
   ]
  },
  {
   "cell_type": "code",
   "execution_count": 81,
   "metadata": {
    "scrolled": false
   },
   "outputs": [
    {
     "name": "stdout",
     "output_type": "stream",
     "text": [
      "datasets path:  C:\\Users\\ASUS\\scikit_learn_data\n",
      "news all data length: 18846\n",
      "news train data length: 11314\n",
      "news test data length: 7532\n"
     ]
    }
   ],
   "source": [
    "print('datasets path: ', get_data_home(data_home=None))\n",
    "print('news all data length:',len(newsgroups_data.data))\n",
    "print('news train data length:',len(newsgroups_train.data))\n",
    "print('news test data length:',len(newsgroups_test.data))\n"
   ]
  },
  {
   "cell_type": "markdown",
   "metadata": {},
   "source": [
    "数据集大小：    \n",
    "数据集共有18846条记录  \n",
    "训练集有11314条记录 \n",
    "测试集共有18846条记录   "
   ]
  },
  {
   "cell_type": "markdown",
   "metadata": {},
   "source": [
    "了解数据的属性"
   ]
  },
  {
   "cell_type": "code",
   "execution_count": 82,
   "metadata": {
    "scrolled": true
   },
   "outputs": [
    {
     "name": "stdout",
     "output_type": "stream",
     "text": [
      "['alt.atheism',\n",
      " 'comp.graphics',\n",
      " 'comp.os.ms-windows.misc',\n",
      " 'comp.sys.ibm.pc.hardware',\n",
      " 'comp.sys.mac.hardware',\n",
      " 'comp.windows.x',\n",
      " 'misc.forsale',\n",
      " 'rec.autos',\n",
      " 'rec.motorcycles',\n",
      " 'rec.sport.baseball',\n",
      " 'rec.sport.hockey',\n",
      " 'sci.crypt',\n",
      " 'sci.electronics',\n",
      " 'sci.med',\n",
      " 'sci.space',\n",
      " 'soc.religion.christian',\n",
      " 'talk.politics.guns',\n",
      " 'talk.politics.mideast',\n",
      " 'talk.politics.misc',\n",
      " 'talk.religion.misc']\n",
      "newsgroups_data category numbers: 20\n",
      "newsgroups_data target_names length: 20\n",
      "newsgroups_data category->target [10  3 17 ...  3  1  7]\n",
      "top 10 target [10  3 17  3  4 12  4 10 10 19]\n",
      "top 10 filenames ['C:\\\\Users\\\\ASUS\\\\scikit_learn_data\\\\20news_home\\\\20news-bydate-test\\\\rec.sport.hockey\\\\54367'\n",
      " 'C:\\\\Users\\\\ASUS\\\\scikit_learn_data\\\\20news_home\\\\20news-bydate-train\\\\comp.sys.ibm.pc.hardware\\\\60215'\n",
      " 'C:\\\\Users\\\\ASUS\\\\scikit_learn_data\\\\20news_home\\\\20news-bydate-train\\\\talk.politics.mideast\\\\76120'\n",
      " 'C:\\\\Users\\\\ASUS\\\\scikit_learn_data\\\\20news_home\\\\20news-bydate-test\\\\comp.sys.ibm.pc.hardware\\\\60771'\n",
      " 'C:\\\\Users\\\\ASUS\\\\scikit_learn_data\\\\20news_home\\\\20news-bydate-train\\\\comp.sys.mac.hardware\\\\51882'\n",
      " 'C:\\\\Users\\\\ASUS\\\\scikit_learn_data\\\\20news_home\\\\20news-bydate-test\\\\sci.electronics\\\\54198'\n",
      " 'C:\\\\Users\\\\ASUS\\\\scikit_learn_data\\\\20news_home\\\\20news-bydate-test\\\\comp.sys.mac.hardware\\\\52099'\n",
      " 'C:\\\\Users\\\\ASUS\\\\scikit_learn_data\\\\20news_home\\\\20news-bydate-train\\\\rec.sport.hockey\\\\53767'\n",
      " 'C:\\\\Users\\\\ASUS\\\\scikit_learn_data\\\\20news_home\\\\20news-bydate-test\\\\rec.sport.hockey\\\\54033'\n",
      " 'C:\\\\Users\\\\ASUS\\\\scikit_learn_data\\\\20news_home\\\\20news-bydate-test\\\\talk.religion.misc\\\\84236']\n",
      "----------------------------------content------0---------------------------------------\n",
      "newsgroups_data top 1:  From: Mamatha Devineni Ratnam <mr47+@andrew.cmu.edu>\n",
      "Subject: Pens fans reactions\n",
      "Organization: Post Office, Carnegie Mellon, Pittsburgh, PA\n",
      "Lines: 12\n",
      "NNTP-Posting-Host: po4.andrew.cmu.edu\n",
      "\n",
      "\n",
      "\n",
      "I am sure some bashers of Pens fans are pretty confused about the lack\n",
      "of any kind of posts about the recent Pens massacre of the Devils. Actually,\n",
      "I am  bit puzzled too and a bit relieved. However, I am going to put an end\n",
      "to non-PIttsburghers' relief with a bit of praise for the Pens. Man, they\n",
      "are killing those Devils worse than I thought. Jagr just showed you why\n",
      "he is much better than his regular season stats. He is also a lot\n",
      "fo fun to watch in the playoffs. Bowman should let JAgr have a lot of\n",
      "fun in the next couple of games since the Pens are going to beat the pulp out of Jersey anyway. I was very disappointed not to see the Islanders lose the final\n",
      "regular season game.          PENS RULE!!!\n",
      "\n",
      "\n",
      "----------------------------------content------1---------------------------------------\n",
      "newsgroups_data top 1:  From: mblawson@midway.ecn.uoknor.edu (Matthew B Lawson)\n",
      "Subject: Which high-performance VLB video card?\n",
      "Summary: Seek recommendations for VLB video card\n",
      "Nntp-Posting-Host: midway.ecn.uoknor.edu\n",
      "Organization: Engineering Computer Network, University of Oklahoma, Norman, OK, USA\n",
      "Keywords: orchid, stealth, vlb\n",
      "Lines: 21\n",
      "\n",
      "  My brother is in the market for a high-performance video card that supports\n",
      "VESA local bus with 1-2MB RAM.  Does anyone have suggestions/ideas on:\n",
      "\n",
      "  - Diamond Stealth Pro Local Bus\n",
      "\n",
      "  - Orchid Farenheit 1280\n",
      "\n",
      "  - ATI Graphics Ultra Pro\n",
      "\n",
      "  - Any other high-performance VLB card\n",
      "\n",
      "\n",
      "Please post or email.  Thank you!\n",
      "\n",
      "  - Matt\n",
      "\n",
      "-- \n",
      "    |  Matthew B. Lawson <------------> (mblawson@essex.ecn.uoknor.edu)  |   \n",
      "  --+-- \"Now I, Nebuchadnezzar, praise and exalt and glorify the King  --+-- \n",
      "    |   of heaven, because everything he does is right and all his ways  |   \n",
      "    |   are just.\" - Nebuchadnezzar, king of Babylon, 562 B.C.           |   \n",
      "\n"
     ]
    }
   ],
   "source": [
    "pprint(list(newsgroups_data.target_names))\n",
    "print('newsgroups_data category numbers:',len(list(newsgroups_data.target_names)))\n",
    "print('newsgroups_data target_names length:', len(newsgroups_data.target_names))#same\n",
    "print('newsgroups_data category->target', newsgroups_data.target)\n",
    "print('top 10 target', newsgroups_data.target[:10])\n",
    "print('top 10 filenames', newsgroups_data.filenames[:10])\n",
    "\n",
    "print('----------------------------------content------0---------------------------------------')\n",
    "print('newsgroups_data top 1: ', newsgroups_data.data[0])\n",
    "print('----------------------------------content------1---------------------------------------')\n",
    "print('newsgroups_data top 1: ', newsgroups_data.data[1])"
   ]
  },
  {
   "cell_type": "markdown",
   "metadata": {},
   "source": [
    "数据集中，target_names表示，新闻类别。    \n",
    "数据集中，target表示：每个新闻的类别id;    \n",
    "数据集中，data 表示：每个新闻包含的内容，分为 headers， footers， quotes，这三部分     \n",
    "数据集中，filenames表示： 每个新闻的文件名    \n",
    "根据输出：当前新闻有20个类别；   \n",
    "subset，子类类型，用来设定数据类型：可以设置train，test，all。      \n",
    "category，类别，就是数据集新闻的类型； 如果设置成None， 会加载所有的categories。    \n",
    "remove， 删除新闻的部分内容，主要包括 headers， footers， quotes，这三部分 ;本项目种，header 不删除，只删除footers和quotes，因为发现headers总包含了keywords，这个特征很重要。\n",
    "shuffle 和random_state这两个要结合起来用。   \n"
   ]
  },
  {
   "cell_type": "code",
   "execution_count": 83,
   "metadata": {},
   "outputs": [
    {
     "name": "stdout",
     "output_type": "stream",
     "text": [
      "Counter({10: 999, 15: 997, 8: 996, 9: 994, 11: 991, 13: 990, 7: 990, 5: 988, 14: 987, 2: 985, 12: 984, 3: 982, 6: 975, 1: 973, 4: 963, 17: 940, 16: 910, 0: 799, 18: 775, 19: 628})\n",
      "0: 799   1: 973   2: 985   3: 982   4: 963   5: 988   6: 975   7: 990   8: 996   9: 994   10: 999   11: 991   12: 984   13: 990   14: 987   15: 997   16: 910   17: 940   18: 775   19: 628   \n"
     ]
    }
   ],
   "source": [
    "from collections import Counter\n",
    "news_cnt = Counter()\n",
    "for temp in newsgroups_data.target:\n",
    "    news_cnt[temp] += 1\n",
    "\n",
    "print(news_cnt)    \n",
    "string = ''\n",
    "for i in range(20):\n",
    "#     print(str(i))\n",
    "    string = string + str(i) + ': ' +  str(news_cnt[i])  + '   '\n",
    "\n",
    "print(string)\n"
   ]
  },
  {
   "cell_type": "code",
   "execution_count": 84,
   "metadata": {
    "scrolled": true
   },
   "outputs": [
    {
     "data": {
      "image/png": "[encoded data removed]",
      "text/plain": [
       "<Figure size 1152x432 with 1 Axes>"
      ]
     },
     "metadata": {
      "needs_background": "light"
     },
     "output_type": "display_data"
    }
   ],
   "source": [
    "inputx = np.arange(20)\n",
    "inputy =[] #np.random.randint(0,30,20)\n",
    "for i in inputx:\n",
    "    inputy.append(news_cnt[i])\n",
    "    \n",
    "# plt.legend((rect,),(u\"图例\",))\n",
    "\n",
    "# 添加数据标签\n",
    "def add_labels(rects):\n",
    "    for rect in rects:\n",
    "        height = rect.get_height()\n",
    "#         print(height, rect.get_width())\n",
    "        plt.text(rect.get_x()+rect.get_width()/2., height, (height), ha='center', va='bottom')\n",
    "  \n",
    "plt.figure(figsize=(16,6))\n",
    "rect = plt.bar(inputx, inputy, 0.5, color='#00BCBC')\n",
    "plt.title(u\"不同新闻数量展示\")\n",
    "# plt.show() #如果add_labels使用后，这里 open打开后，出错\n",
    "add_labels(rect)\n"
   ]
  },
  {
   "cell_type": "markdown",
   "metadata": {},
   "source": [
    " 所有新闻的长度信息如下：\n",
    " "
   ]
  },
  {
   "cell_type": "code",
   "execution_count": 85,
   "metadata": {},
   "outputs": [
    {
     "name": "stdout",
     "output_type": "stream",
     "text": [
      "min 数为: 115\n",
      "max 数为: 160616\n",
      "mean 数为: 1902.5258940889314\n",
      "median 数为: 1175.0\n"
     ]
    },
    {
     "data": {
      "image/png": "[encoded data removed]",
      "text/plain": [
       "<Figure size 1152x432 with 1 Axes>"
      ]
     },
     "metadata": {
      "needs_background": "light"
     },
     "output_type": "display_data"
    }
   ],
   "source": [
    "lengths_newsgroups_data = []\n",
    "for (idx) in range(len(newsgroups_data.data)):\n",
    "    lengths_newsgroups_data.append(len(newsgroups_data.data[idx]))\n",
    "#print(len_news_data)\n",
    "print('min 数为:', np.min(lengths_newsgroups_data))\n",
    "print('max 数为:', np.max(lengths_newsgroups_data))\n",
    "print('mean 数为:', np.mean(lengths_newsgroups_data))\n",
    "print('median 数为:', np.median(lengths_newsgroups_data))\n",
    "\n",
    "\n",
    "sinputx = np.arange(len(lengths_newsgroups_data))\n",
    "sinputy = lengths_newsgroups_data\n",
    "# print(sinputx)\n",
    "plt.figure(figsize=(16,6))\n",
    "plt.scatter(sinputx, sinputy)\n",
    "plt.xlabel(u\"news id\")\n",
    "plt.ylabel(u\"news tokens number\")\n",
    "plt.show()"
   ]
  },
  {
   "cell_type": "code",
   "execution_count": 86,
   "metadata": {
    "scrolled": true
   },
   "outputs": [
    {
     "name": "stdout",
     "output_type": "stream",
     "text": [
      "291 0.015440942375039797\n"
     ]
    },
    {
     "data": {
      "image/png": "[encoded data removed]",
      "text/plain": [
       "<Figure size 1152x432 with 1 Axes>"
      ]
     },
     "metadata": {
      "needs_background": "light"
     },
     "output_type": "display_data"
    }
   ],
   "source": [
    "lenghts_lessthan10000 = []\n",
    "others =[]\n",
    "for length in lengths_newsgroups_data:\n",
    "    if length < 10000:\n",
    "        lenghts_lessthan10000.append(length)\n",
    "    else:\n",
    "        others.append(length)\n",
    "        \n",
    "print(len(others), len(others)/len(lengths_newsgroups_data))\n",
    "sinputx1 = np.arange(len(lenghts_lessthan10000))\n",
    "sinputy1 = lenghts_lessthan10000\n",
    "# print(sinputx)\n",
    "plt.figure(figsize=(16,6))\n",
    "plt.scatter(sinputx1, sinputy1)\n",
    "plt.xlabel(u\"news id\")\n",
    "plt.ylabel(u\"news tokens number\")\n",
    "plt.show()"
   ]
  },
  {
   "cell_type": "code",
   "execution_count": 87,
   "metadata": {},
   "outputs": [],
   "source": [
    "# dic = {'0':0, '1':0, '2':0,'3':0,'4':0,'5':0,'6':0,'7':0,'8':0,'9':0,'10':0,'11':0,'12':0,'13':0,'14':0,'15':0,'16':0,'17':0,'18':0,'19':0}\n",
    "# for index, tid in enumerate(newsgroups_data.target):\n",
    "#     for i in range(20):\n",
    "#         #print(i, tid)\n",
    "#         dic[str(tid)]= 0\n",
    "#         if tid == i:\n",
    "#             #print (index)\n",
    "#             #print(newsgroups_data.data[index])\n",
    "#             number = len(newsgroups_data.data[index])\n",
    "#             dic[str(tid)] = dic[str(tid)]+ number\n",
    "                \n",
    "# for i in range(20):\n",
    "#     print( dic[str(i)]) "
   ]
  },
  {
   "cell_type": "code",
   "execution_count": 88,
   "metadata": {},
   "outputs": [
    {
     "data": {
      "text/plain": [
       "(11314, 130107)"
      ]
     },
     "execution_count": 88,
     "metadata": {},
     "output_type": "execute_result"
    }
   ],
   "source": [
    "from sklearn.feature_extraction.text import TfidfVectorizer\n",
    "categories = None # ['alt.atheism', 'talk.religion.misc', 'comp.graphics', 'sci.space']\n",
    "\n",
    "newsgroup_4cat_train = fetch_20newsgroups(subset='train', categories=None)\n",
    "vectorizer = TfidfVectorizer()\n",
    "vectors = vectorizer.fit_transform(newsgroup_4cat_train.data)\n",
    "vectors.shape\n"
   ]
  },
  {
   "cell_type": "markdown",
   "metadata": {},
   "source": [
    "提取的TF-IDF向量非常稀疏，在130000维以上的空间中平均有158个非零分量（小于0.5％的非零特征）："
   ]
  },
  {
   "cell_type": "code",
   "execution_count": 89,
   "metadata": {},
   "outputs": [
    {
     "data": {
      "text/plain": [
       "157.9958458546933"
      ]
     },
     "execution_count": 89,
     "metadata": {},
     "output_type": "execute_result"
    }
   ],
   "source": [
    "vectors.nnz / float(vectors.shape[0])"
   ]
  },
  {
   "cell_type": "code",
   "execution_count": 90,
   "metadata": {},
   "outputs": [
    {
     "data": {
      "text/plain": [
       "0.8290659644474043"
      ]
     },
     "execution_count": 90,
     "metadata": {},
     "output_type": "execute_result"
    }
   ],
   "source": [
    "from sklearn.naive_bayes import MultinomialNB\n",
    "from sklearn import metrics\n",
    "#newsgroups_test = fetch_20newsgroups(subset='test',categories=categories)\n",
    "vectors_test = vectorizer.transform(newsgroups_test.data)\n",
    "clf = MultinomialNB(alpha=.01)\n",
    "clf.fit(vectors, newsgroups_train.target)\n",
    "pred = clf.predict(vectors_test)\n",
    "metrics.f1_score(newsgroups_test.target, pred, average='macro')"
   ]
  },
  {
   "cell_type": "code",
   "execution_count": 91,
   "metadata": {
    "scrolled": true
   },
   "outputs": [
    {
     "name": "stdout",
     "output_type": "stream",
     "text": [
      "alt.atheism: keith it and you in that is to of the\n",
      "comp.graphics: edu in for it is and graphics of to the\n",
      "comp.os.ms-windows.misc: file for of and edu is it to the windows\n",
      "comp.sys.ibm.pc.hardware: card ide is of it drive and scsi to the\n",
      "comp.sys.mac.hardware: in it is and of edu apple mac to the\n",
      "comp.windows.x: it mit in motif and is of window to the\n",
      "misc.forsale: shipping offer of 00 to and edu the for sale\n",
      "rec.autos: that is you it in of and to car the\n",
      "rec.motorcycles: dod you it com in of and bike to the\n",
      "rec.sport.baseball: that is baseball and of in to he edu the\n",
      "rec.sport.hockey: ca game he team and hockey of in to the\n",
      "sci.crypt: chip that encryption is and clipper key of to the\n",
      "sci.electronics: for edu you it in is and of to the\n",
      "sci.med: edu pitt that it in and is to of the\n",
      "sci.space: it that is nasa in and to of space the\n",
      "soc.religion.christian: we it in and is god that to of the\n",
      "talk.politics.guns: it is you that gun and in of to the\n",
      "talk.politics.mideast: is you israeli that israel in and to of the\n",
      "talk.politics.misc: edu it is you and in that of to the\n",
      "talk.religion.misc: sandvik god you in is that and to of the\n"
     ]
    }
   ],
   "source": [
    "import numpy as np\n",
    "def show_top10(classifier, vectorizer, categories):\n",
    "     feature_names = np.asarray(vectorizer.get_feature_names())\n",
    "     for i, category in enumerate(categories):\n",
    "         top10 = np.argsort(classifier.coef_[i])[-10:]\n",
    "         print(\"%s: %s\" % (category, \" \".join(feature_names[top10])))\n",
    "\n",
    "show_top10(clf, vectorizer, newsgroups_train.target_names)"
   ]
  },
  {
   "cell_type": "code",
   "execution_count": 92,
   "metadata": {},
   "outputs": [
    {
     "data": {
      "text/plain": [
       "0.7847088064846031"
      ]
     },
     "execution_count": 92,
     "metadata": {},
     "output_type": "execute_result"
    }
   ],
   "source": [
    "newsgroups_test = fetch_20newsgroups(subset='test',\n",
    "                                      remove=('footers', 'quotes'),\n",
    "                                      categories=categories)\n",
    "vectors_test = vectorizer.transform(newsgroups_test.data)\n",
    "pred = clf.predict(vectors_test)\n",
    "metrics.f1_score(pred, newsgroups_test.target, average='macro')\n"
   ]
  },
  {
   "cell_type": "code",
   "execution_count": 93,
   "metadata": {},
   "outputs": [
    {
     "data": {
      "text/plain": [
       "0.7779570685743328"
      ]
     },
     "execution_count": 93,
     "metadata": {},
     "output_type": "execute_result"
    }
   ],
   "source": [
    "newsgroups_train = fetch_20newsgroups(subset='train',\n",
    "                                       remove=('footers', 'quotes'),\n",
    "                                       categories=categories)\n",
    "vectors = vectorizer.fit_transform(newsgroups_train.data)\n",
    "clf = MultinomialNB(alpha=.01)\n",
    "clf.fit(vectors, newsgroups_train.target)\n",
    "vectors_test = vectorizer.transform(newsgroups_test.data)\n",
    "pred = clf.predict(vectors_test)\n",
    "metrics.f1_score(newsgroups_test.target, pred, average='macro')"
   ]
  },
  {
   "cell_type": "markdown",
   "metadata": {},
   "source": [
    "在评估20个新闻组数据上的文本分类器时，应该删除与新闻组相关的元数据。在scikit-learn中，可以通过设置remove=('headers', 'footers', 'quotes')来完成此操作。F分数会降低，因为它更加真实。 [参考： http://scikit-learn.org/stable/datasets/twenty_newsgroups.html]"
   ]
  },
  {
   "cell_type": "markdown",
   "metadata": {},
   "source": [
    "# 数据预处理"
   ]
  },
  {
   "cell_type": "markdown",
   "metadata": {},
   "source": [
    "分词处理"
   ]
  },
  {
   "cell_type": "code",
   "execution_count": 94,
   "metadata": {
    "scrolled": true
   },
   "outputs": [
    {
     "name": "stdout",
     "output_type": "stream",
     "text": [
      "[nltk_data] Downloading package punkt to\n",
      "[nltk_data]     C:\\Users\\ASUS\\AppData\\Roaming\\nltk_data...\n",
      "[nltk_data]   Package punkt is already up-to-date!\n"
     ]
    },
    {
     "data": {
      "text/plain": [
       "True"
      ]
     },
     "execution_count": 94,
     "metadata": {},
     "output_type": "execute_result"
    }
   ],
   "source": [
    "import nltk\n",
    "nltk.download('punkt')"
   ]
  },
  {
   "cell_type": "code",
   "execution_count": 95,
   "metadata": {},
   "outputs": [
    {
     "name": "stdout",
     "output_type": "stream",
     "text": [
      "['your', 'youre', 'yours', 'yourself', 'yourselves', 'z', 'zero', 'zt', 'zz', '']\n",
      "891\n"
     ]
    }
   ],
   "source": [
    "#add my stop words\n",
    "# 参考【https://blog.csdn.net/shijiebei2009/article/details/39696523】\n",
    "import os\n",
    "# f = open(\"c://cc://stopwords891\",\"r\") \n",
    "# lines = f.readlines()      #读取全部内容 ，并以列表方式返回\n",
    "# for line in lines:\n",
    "#     print(line) \n",
    "mystop_words = []\n",
    "f = open(\"stopwords891.txt\")               # 返回一个文件对象 \n",
    "line = f.readline()               # 调用文件的 readline()方法 \n",
    "while line:   \n",
    "    #print(line)                   # 后面跟 ',' 将忽略换行符    \n",
    "    #print(line, end = '')　      # 在 Python 3 中使用    \n",
    "    line = f.readline()\n",
    "    line =line.strip('\\n') \n",
    "    mystop_words.append(line)\n",
    "f.close()  \n",
    "\n",
    "print(mystop_words[-10:])\n",
    "print(len(mystop_words))"
   ]
  },
  {
   "cell_type": "code",
   "execution_count": 96,
   "metadata": {},
   "outputs": [
    {
     "name": "stdout",
     "output_type": "stream",
     "text": [
      "newsgroups_data origin top 1:  From: Mamatha Devineni Ratnam <mr47+@andrew.cmu.edu>\n",
      "Subject: Pens fans reactions\n",
      "Organization: Post Office, Carnegie Mellon, Pittsburgh, PA\n",
      "Lines: 12\n",
      "NNTP-Posting-Host: po4.andrew.cmu.edu\n",
      "\n",
      "\n",
      "\n",
      "I am sure some bashers of Pens fans are pretty confused about the lack\n",
      "of any kind of posts about the recent Pens massacre of the Devils. Actually,\n",
      "I am  bit puzzled too and a bit relieved. However, I am going to put an end\n",
      "to non-PIttsburghers' relief with a bit of praise for the Pens. Man, they\n",
      "are killing those Devils worse than I thought. Jagr just showed you why\n",
      "he is much better than his regular season stats. He is also a lot\n",
      "fo fun to watch in the playoffs. Bowman should let JAgr have a lot of\n",
      "fun in the next couple of games since the Pens are going to beat the pulp out of Jersey anyway. I was very disappointed not to see the Islanders lose the final\n",
      "regular season game.          PENS RULE!!!\n",
      "\n",
      "\n",
      "--------------------------------after remove footers, quotes--------------------------------------------\n",
      "newsgroups_data remove 3 parts top 1:  From: Mamatha Devineni Ratnam <mr47+@andrew.cmu.edu>\n",
      "Subject: Pens fans reactions\n",
      "Organization: Post Office, Carnegie Mellon, Pittsburgh, PA\n",
      "Lines: 12\n",
      "NNTP-Posting-Host: po4.andrew.cmu.edu\n",
      "\n",
      "\n"
     ]
    }
   ],
   "source": [
    "newsgroups_all_rm3p = fetch_20newsgroups(subset='all',\n",
    "                                       remove=('footers', 'quotes'),\n",
    "                                       categories=None, shuffle = True, random_state = 42)\n",
    "print('newsgroups_data origin top 1: ', newsgroups_data.data[0])\n",
    "print('--------------------------------after remove footers, quotes--------------------------------------------')\n",
    "print('newsgroups_data remove 3 parts top 1: ', newsgroups_all_rm3p.data[0])"
   ]
  },
  {
   "cell_type": "code",
   "execution_count": 97,
   "metadata": {},
   "outputs": [
    {
     "name": "stdout",
     "output_type": "stream",
     "text": [
      "n_samples: 11314, n_features: 98925\n",
      "n_samples: 7532, n_features: 98925\n"
     ]
    }
   ],
   "source": [
    "vectorizer = TfidfVectorizer(sublinear_tf=True, max_df=0.5,stop_words='english')\n",
    "X_train = vectorizer.fit_transform(newsgroups_train.data)\n",
    "print(\"n_samples: %d, n_features: %d\" % X_train.shape)\n",
    "#print(X_train[0])\n",
    "X_test = vectorizer.transform(newsgroups_test.data)\n",
    "print(\"n_samples: %d, n_features: %d\" % X_test.shape)\n",
    "feature_names = vectorizer.get_feature_names()\n",
    "#print(feature_names)"
   ]
  },
  {
   "cell_type": "code",
   "execution_count": 98,
   "metadata": {},
   "outputs": [
    {
     "name": "stdout",
     "output_type": "stream",
     "text": [
      "TfidfVectorizer(analyzer='word', binary=False, decode_error='strict',\n",
      "        dtype=<class 'numpy.int64'>, encoding='utf-8', input='content',\n",
      "        lowercase=True, max_df=0.5, max_features=None, min_df=1,\n",
      "        ngram_range=(1, 1), norm='l2', preprocessor=None, smooth_idf=True,\n",
      "        stop_words='english', strip_accents=None, sublinear_tf=True,\n",
      "        token_pattern='(?u)\\\\b\\\\w\\\\w+\\\\b', tokenizer=None, use_idf=True,\n",
      "        vocabulary=None)\n"
     ]
    }
   ],
   "source": [
    "print(vectorizer)"
   ]
  },
  {
   "cell_type": "code",
   "execution_count": 99,
   "metadata": {},
   "outputs": [],
   "source": [
    "from collections import Counter\n",
    "def get_numbers(news_tokens):\n",
    "    alltokens = []\n",
    "    for tokens in news_tokens:\n",
    "        for token in tokens:\n",
    "            alltokens.append(token) \n",
    "            \n",
    "    print(Counter(alltokens).most_common(20))        \n",
    "    return len(Counter(alltokens))\n",
    "   \n",
    "    #print('特征数： ',len(Counter(alltokens)))"
   ]
  },
  {
   "cell_type": "code",
   "execution_count": 100,
   "metadata": {},
   "outputs": [],
   "source": [
    "def get_top_tokens(news_tokens, number):\n",
    "    alltokens = []\n",
    "    for tokens in news_tokens:\n",
    "        for token in tokens:\n",
    "            alltokens.append(token) \n",
    "              \n",
    "    return Counter(alltokens).most_common(number)"
   ]
  },
  {
   "cell_type": "code",
   "execution_count": 101,
   "metadata": {},
   "outputs": [],
   "source": [
    "import matplotlib as mpl\n",
    "import matplotlib.pyplot as plt\n",
    "def bar_of_news_dict(cnt):\n",
    "    name_list = []\n",
    "    num_list = []\n",
    "    for (key,value) in cnt:\n",
    "        name_list.append(key)\n",
    "        num_list.append(value)\n",
    "\n",
    "    font_size = 10 # 字体大小\n",
    "    fig_size = (16, 6) # 图表大小\n",
    "\n",
    "    # 更新字体大小\n",
    "    mpl.rcParams['font.size'] = font_size\n",
    "    # 更新图表大小\n",
    "    mpl.rcParams['figure.figsize'] = fig_size\n",
    "    # 设置柱形图宽度\n",
    "    bar_width = 0.5\n",
    "\n",
    "    index = np.arange(20)\n",
    "    # 绘制 train\n",
    "    rects = plt.bar(index, num_list, bar_width, color='#00BCBC')\n",
    "    # X轴标题\n",
    "    plt.xticks(index, name_list)\n",
    "    # Y轴范围\n",
    "    #plt.ylim(ymax=100, ymin=0)\n",
    "    # 图表标题\n",
    "    plt.title('news tokens top 20')\n",
    "    # 图例显示在图表下方\n",
    "    #plt.legend(loc='upper center', bbox_to_anchor=(0.5, -0.05), fancybox=True, ncol=5)\n",
    "\n",
    "    # 添加数据标签\n",
    "    def add_labels(rects):\n",
    "        for rect in rects:\n",
    "            height = rect.get_height()\n",
    "            plt.text(rect.get_x() + rect.get_width() / 2, height, height, ha='center', va='bottom')\n",
    "            # 柱形图边缘用白色填充，纯粹为了美观\n",
    "            rect.set_edgecolor('white')\n",
    "\n",
    "    add_labels(rects)\n"
   ]
  },
  {
   "cell_type": "code",
   "execution_count": 102,
   "metadata": {},
   "outputs": [
    {
     "name": "stdout",
     "output_type": "stream",
     "text": [
      "[('00', 1), ('000', 1), ('0000', 1), ('00000', 1), ('000000', 1), ('00000000', 1), ('0000000004', 1), ('00000000b', 1), ('00000001', 1), ('00000001b', 1)]\n"
     ]
    }
   ],
   "source": [
    "print(Counter(feature_names).most_common(10))"
   ]
  },
  {
   "cell_type": "code",
   "execution_count": 103,
   "metadata": {},
   "outputs": [
    {
     "name": "stdout",
     "output_type": "stream",
     "text": [
      "[('>', 265526), (',', 263524), ('.', 237655), ('the', 213304), (':', 185878), ('--', 178752), ('to', 117989), (')', 113315), ('of', 111837), ('(', 110932), ('a', 94137), ('and', 89835), ('@', 87913), ('I', 80778), ('is', 68168), ('in', 63841), ('that', 62026), (\"'AX\", 61717), ('?', 55446), (\"''\", 50561)]\n",
      "开始全部的特征数：  284113\n"
     ]
    }
   ],
   "source": [
    "from nltk import word_tokenize\n",
    "news_tokens = [word_tokenize(temp) for temp in newsgroups_data.data]\n",
    "number = get_numbers(news_tokens)\n",
    "print('开始全部的特征数： ', number)\n",
    "token_1 = number"
   ]
  },
  {
   "cell_type": "code",
   "execution_count": 104,
   "metadata": {},
   "outputs": [
    {
     "data": {
      "image/png": "[encoded data removed]",
      "text/plain": [
       "<Figure size 1152x432 with 1 Axes>"
      ]
     },
     "metadata": {
      "needs_background": "light"
     },
     "output_type": "display_data"
    }
   ],
   "source": [
    "bar_of_news_dict(get_top_tokens(news_tokens, 20))"
   ]
  },
  {
   "cell_type": "code",
   "execution_count": 105,
   "metadata": {},
   "outputs": [],
   "source": [
    "news_tokens = [word_tokenize(temp) for temp in newsgroups_all_rm3p.data]"
   ]
  },
  {
   "cell_type": "code",
   "execution_count": 106,
   "metadata": {},
   "outputs": [
    {
     "name": "stdout",
     "output_type": "stream",
     "text": [
      "[(',', 189603), ('.', 170483), ('the', 154510), (':', 150482), ('--', 87763), ('to', 85044), ('of', 82583), (')', 73822), ('(', 71068), ('and', 67009), ('a', 66184), ('I', 54369), ('is', 48143), ('in', 46939), ('that', 43524), ('@', 39108), ('?', 34143), ('for', 31623), (\"''\", 31020), ('it', 30808)]\n",
      "删除footer和quotes后，剩余特征数：  221083\n"
     ]
    }
   ],
   "source": [
    "number = get_numbers(news_tokens)\n",
    "print('删除footer和quotes后，剩余特征数： ', number)\n",
    "token_2 = number"
   ]
  },
  {
   "cell_type": "code",
   "execution_count": 107,
   "metadata": {},
   "outputs": [
    {
     "data": {
      "image/png": "[encoded data removed]",
      "text/plain": [
       "<Figure size 1152x432 with 1 Axes>"
      ]
     },
     "metadata": {
      "needs_background": "light"
     },
     "output_type": "display_data"
    }
   ],
   "source": [
    "bar_of_news_dict(get_top_tokens(news_tokens, 20))"
   ]
  },
  {
   "cell_type": "markdown",
   "metadata": {},
   "source": [
    "删除标点符号，特殊符号，数字\n"
   ]
  },
  {
   "cell_type": "code",
   "execution_count": 108,
   "metadata": {},
   "outputs": [],
   "source": [
    "import re\n",
    "def get_useful_data(text):\n",
    "    text = text.replace('\\n',\" \") #删掉空行 \n",
    "    text = text.replace('\\'AX',\" \") #删掉'AX \n",
    "    text = re.sub(r\"-\", \" \", text) #把 \"-\" 的单词分为两个\n",
    "    text = re.sub(r\"\\d+/\\d+/\\d+\", \"\", text) #删掉日期  \n",
    "    text = re.sub(r\"[0-2]?[0-9]:[0-6][0-9]\", \"\", text) #删掉时间  \n",
    "    text = re.sub(r\"[\\.\\w]+@[\\.\\w]+\", \"\", text) #删掉邮箱地址  \n",
    "    text = re.sub(r\"http[s]?://(?:[a-zA-Z]|[0-9]|[$-_@.&+]|[!*,]|(?:%[0-9a-fA-F][0-9a-fA-F]))+\", \"\", text) #删掉网址 \n",
    "#     text = re.sub(r\"[\\s+\\.\\!\\/_,$%^*(+\\\"\\')]+|[+——()?【】“”！，。？、~@#￥%……&*（）]+\", \"\",text)#删除标点符号，特殊字符\n",
    "    pure_text = ''  \n",
    "    # 删掉特殊字符（数字）等等\n",
    "    for letter in text:  \n",
    "        # 只留下字母和空格 \n",
    "        if letter.isalpha() or letter==' ':  \n",
    "            pure_text += letter\n",
    "        else:\n",
    "            pure_text += ' '\n",
    "    #去掉单个字母\n",
    "    text = ' '.join(word for word in pure_text.split() if len(word)>1) \n",
    "    return text\n",
    "\n",
    "news_data_clean = [get_useful_data(temp) for temp in newsgroups_all_rm3p.data]\n",
    "news_tokens = [word_tokenize(temp) for temp in news_data_clean]"
   ]
  },
  {
   "cell_type": "code",
   "execution_count": 109,
   "metadata": {},
   "outputs": [
    {
     "name": "stdout",
     "output_type": "stream",
     "text": [
      "[('the', 154773), ('to', 85649), ('of', 82792), ('and', 67514), ('is', 47396), ('in', 47353), ('that', 43632), ('for', 31699), ('it', 31093), ('you', 26530), ('on', 23158), ('be', 21671), ('have', 20715), ('with', 20496), ('are', 20219), ('not', 20167), ('From', 19820), ('Subject', 19327), ('The', 19199), ('Lines', 18896)]\n",
      "删除标点符合，特殊符号等后， 剩余特征数：  118960\n"
     ]
    }
   ],
   "source": [
    "number = get_numbers(news_tokens)\n",
    "print('删除标点符合，特殊符号等后， 剩余特征数： ', number)\n",
    "token_3 = number"
   ]
  },
  {
   "cell_type": "markdown",
   "metadata": {},
   "source": [
    "输出词典最多的前20个词汇："
   ]
  },
  {
   "cell_type": "code",
   "execution_count": 110,
   "metadata": {},
   "outputs": [
    {
     "data": {
      "image/png": "[encoded data removed]",
      "text/plain": [
       "<Figure size 1152x432 with 1 Axes>"
      ]
     },
     "metadata": {
      "needs_background": "light"
     },
     "output_type": "display_data"
    }
   ],
   "source": [
    "bar_of_news_dict(get_top_tokens(news_tokens, 20))"
   ]
  },
  {
   "cell_type": "markdown",
   "metadata": {},
   "source": [
    "单词转小写\n"
   ]
  },
  {
   "cell_type": "code",
   "execution_count": 111,
   "metadata": {},
   "outputs": [
    {
     "name": "stdout",
     "output_type": "stream",
     "text": [
      "[('the', 175152), ('to', 90690), ('of', 84350), ('and', 71379), ('in', 52056), ('is', 49394), ('that', 45650), ('it', 38442), ('for', 34344), ('from', 32648), ('you', 30414), ('on', 24582), ('this', 23511), ('be', 22004), ('not', 21956), ('with', 21097), ('have', 21065), ('are', 20945), ('subject', 19998), ('lines', 19446)]\n",
      "字母大小写处理：剩余特征数  92984\n"
     ]
    }
   ],
   "source": [
    "news_tokens = [word_tokenize(temp.lower()) for temp in news_data_clean]\n",
    "number = get_numbers(news_tokens)\n",
    "print('字母大小写处理：剩余特征数 ', number)\n",
    "token_4 = number"
   ]
  },
  {
   "cell_type": "code",
   "execution_count": 112,
   "metadata": {},
   "outputs": [
    {
     "data": {
      "image/png": "[encoded data removed]",
      "text/plain": [
       "<Figure size 1152x432 with 1 Axes>"
      ]
     },
     "metadata": {
      "needs_background": "light"
     },
     "output_type": "display_data"
    }
   ],
   "source": [
    "bar_of_news_dict(get_top_tokens(news_tokens, 20))"
   ]
  },
  {
   "cell_type": "markdown",
   "metadata": {},
   "source": [
    "去掉停用词，使用nltk停用词语料库"
   ]
  },
  {
   "cell_type": "code",
   "execution_count": 113,
   "metadata": {},
   "outputs": [
    {
     "name": "stdout",
     "output_type": "stream",
     "text": [
      "['i', 'me', 'my', 'myself', 'we', 'our', 'ours', 'ourselves', 'you', \"you're\", \"you've\", \"you'll\", \"you'd\", 'your', 'yours', 'yourself', 'yourselves', 'he', 'him', 'his', 'himself', 'she', \"she's\", 'her', 'hers', 'herself', 'it', \"it's\", 'its', 'itself', 'they', 'them', 'their', 'theirs', 'themselves', 'what', 'which', 'who', 'whom', 'this', 'that', \"that'll\", 'these', 'those', 'am', 'is', 'are', 'was', 'were', 'be', 'been', 'being', 'have', 'has', 'had', 'having', 'do', 'does', 'did', 'doing', 'a', 'an', 'the', 'and', 'but', 'if', 'or', 'because', 'as', 'until', 'while', 'of', 'at', 'by', 'for', 'with', 'about', 'against', 'between', 'into', 'through', 'during', 'before', 'after', 'above', 'below', 'to', 'from', 'up', 'down', 'in', 'out', 'on', 'off', 'over', 'under', 'again', 'further', 'then', 'once', 'here', 'there', 'when', 'where', 'why', 'how', 'all', 'any', 'both', 'each', 'few', 'more', 'most', 'other', 'some', 'such', 'no', 'nor', 'not', 'only', 'own', 'same', 'so', 'than', 'too', 'very', 's', 't', 'can', 'will', 'just', 'don', \"don't\", 'should', \"should've\", 'now', 'd', 'll', 'm', 'o', 're', 've', 'y', 'ain', 'aren', \"aren't\", 'couldn', \"couldn't\", 'didn', \"didn't\", 'doesn', \"doesn't\", 'hadn', \"hadn't\", 'hasn', \"hasn't\", 'haven', \"haven't\", 'isn', \"isn't\", 'ma', 'mightn', \"mightn't\", 'mustn', \"mustn't\", 'needn', \"needn't\", 'shan', \"shan't\", 'shouldn', \"shouldn't\", 'wasn', \"wasn't\", 'weren', \"weren't\", 'won', \"won't\", 'wouldn', \"wouldn't\"]\n"
     ]
    }
   ],
   "source": [
    "from nltk.corpus import stopwords\n",
    "stopwords_list = stopwords.words('english')\n",
    "print(stopwords_list)"
   ]
  },
  {
   "cell_type": "code",
   "execution_count": 114,
   "metadata": {
    "scrolled": true
   },
   "outputs": [
    {
     "name": "stdout",
     "output_type": "stream",
     "text": [
      "[('subject', 19998), ('lines', 19446), ('organization', 18547), ('one', 10300), ('would', 10073), ('posting', 8850), ('host', 8308), ('nntp', 8093), ('university', 7990), ('like', 6519), ('people', 6512), ('edu', 6166), ('get', 5897), ('know', 5705), ('also', 5522), ('use', 5007), ('think', 4979), ('time', 4948), ('new', 4749), ('distribution', 4501)]\n",
      "删除停用词后特征数：  92840\n"
     ]
    }
   ],
   "source": [
    "news_tokens_stopwords = [[temp for temp in temp_list if stopwords_list.count(temp) == 0] for temp_list in news_tokens]\n",
    "number = get_numbers(news_tokens_stopwords)\n",
    "print('删除停用词后特征数： ', number)\n",
    "token_5 = number"
   ]
  },
  {
   "cell_type": "code",
   "execution_count": 115,
   "metadata": {},
   "outputs": [],
   "source": [
    "#news_tokens_stopwords_v2 = [[temp for temp in temp_list if mystop_words.count(temp) == 0] for temp_list in news_tokens_stopwords]\n",
    "#number_v2 = get_numbers(news_tokens_stopwords_v2)\n",
    "#print('第二次 删除停用词后特征数： ', number_v2)"
   ]
  },
  {
   "cell_type": "code",
   "execution_count": 116,
   "metadata": {
    "scrolled": true
   },
   "outputs": [
    {
     "data": {
      "image/png": "[encoded data removed]",
      "text/plain": [
       "<Figure size 1152x432 with 1 Axes>"
      ]
     },
     "metadata": {
      "needs_background": "light"
     },
     "output_type": "display_data"
    }
   ],
   "source": [
    "bar_of_news_dict(get_top_tokens(news_tokens_stopwords, 20))"
   ]
  },
  {
   "cell_type": "code",
   "execution_count": 117,
   "metadata": {},
   "outputs": [],
   "source": [
    "#bar_of_news_dict(get_top_tokens(news_tokens_stopwords_v2, 20))"
   ]
  },
  {
   "cell_type": "markdown",
   "metadata": {},
   "source": [
    "词根还原处理\n"
   ]
  },
  {
   "cell_type": "code",
   "execution_count": 118,
   "metadata": {},
   "outputs": [
    {
     "name": "stdout",
     "output_type": "stream",
     "text": [
      "['the', 'go', 'have', 'woman', 'shoe', 'at']\n"
     ]
    }
   ],
   "source": [
    "from nltk.stem.wordnet import WordNetLemmatizer\n",
    "from nltk import pos_tag\n",
    "lemmatizer = WordNetLemmatizer()\n",
    "# 词根还原\n",
    "def lemmatize(token, tag):\n",
    "    if tag[0].lower() in ['n','v']:  \n",
    "        return lemmatizer.lemmatize(token, tag[0].lower())  \n",
    "    return token\n",
    "print([lemmatize(token, tag) for token, tag in pos_tag(['the', 'went','had','women','shoes', 'at'])])"
   ]
  },
  {
   "cell_type": "code",
   "execution_count": 119,
   "metadata": {},
   "outputs": [
    {
     "name": "stdout",
     "output_type": "stream",
     "text": [
      "[('line', 21181), ('subject', 20129), ('organization', 18742), ('post', 11046), ('one', 10867), ('use', 10677), ('would', 10073), ('get', 9416), ('host', 8371), ('nntp', 8093), ('university', 8054), ('say', 7874), ('know', 7339), ('make', 6915), ('go', 6717), ('like', 6655), ('people', 6575), ('think', 6371), ('edu', 6166), ('time', 6092)]\n",
      "词根还原后 特征数：  84717\n"
     ]
    }
   ],
   "source": [
    "news_tokens_tagged_corpus = [pos_tag(temp) for temp in news_tokens_stopwords]#news_tokens_stopwords_v2\n",
    "news_tokens_lemmatize = [[lemmatize(token, tag) for token, tag in temp] for temp in news_tokens_tagged_corpus]\n",
    "\n",
    "number = get_numbers(news_tokens_lemmatize)\n",
    "print('词根还原后 特征数： ', number)\n",
    "token_6 = number"
   ]
  },
  {
   "cell_type": "code",
   "execution_count": 120,
   "metadata": {},
   "outputs": [
    {
     "data": {
      "image/png": "[encoded data removed]",
      "text/plain": [
       "<Figure size 1152x432 with 1 Axes>"
      ]
     },
     "metadata": {
      "needs_background": "light"
     },
     "output_type": "display_data"
    }
   ],
   "source": [
    "bar_of_news_dict(get_top_tokens(news_tokens_lemmatize, 20))"
   ]
  },
  {
   "cell_type": "markdown",
   "metadata": {},
   "source": [
    "数据预处理过程，特征变换情况\n"
   ]
  },
  {
   "cell_type": "code",
   "execution_count": 121,
   "metadata": {},
   "outputs": [
    {
     "data": {
      "image/png": "[encoded data removed]",
      "text/plain": [
       "<Figure size 576x288 with 1 Axes>"
      ]
     },
     "metadata": {
      "needs_background": "light"
     },
     "output_type": "display_data"
    }
   ],
   "source": [
    "inputx = np.arange(6)\n",
    "inputy = [token_1, token_2, token_3,token_4,token_5,token_6] #[284113, 221083, 118960,92984,92840,84717]\n",
    "# 添加数据标签\n",
    "def add_labels(rects):\n",
    "    for rect in rects:\n",
    "        height = rect.get_height()\n",
    "#         print(height, rect.get_width())\n",
    "        plt.text(rect.get_x()+rect.get_width()/2., height, (height), ha='center', va='bottom')\n",
    "  \n",
    "plt.figure(figsize=(8,4))\n",
    "rect = plt.bar(inputx, inputy, 0.5, color='#00BCBC')\n",
    "plt.title(u\"不同新闻数量展示\")\n",
    "# plt.show() #如果add_labels使用后，这里 open打开后，出错\n",
    "add_labels(rect)"
   ]
  },
  {
   "cell_type": "markdown",
   "metadata": {},
   "source": [
    " 图中对应的处理步骤 如下：\n",
    " \n",
    " 0： 开始    \n",
    " 1： 删除footer，quotes 数据    \n",
    " 2： 数据清理    \n",
    " 3： 转小写    \n",
    " 4： 去掉停用词    \n",
    " 5： 词根统一    \n"
   ]
  },
  {
   "cell_type": "markdown",
   "metadata": {},
   "source": [
    "观察发现，通过数据处理，特征数明显减少了， 变为原来的1/3 左右。"
   ]
  },
  {
   "cell_type": "code",
   "execution_count": 122,
   "metadata": {},
   "outputs": [],
   "source": [
    "# all_stems = sum(news_tokens_lemmatize, [])\n",
    "# stems_once = set(stem for stem in set(all_stems) if all_stems.count(stem) == 1)\n",
    "# texts = [[stem for stem in text if stem not in stems_once] for text in texts_stemmed]"
   ]
  },
  {
   "cell_type": "code",
   "execution_count": 123,
   "metadata": {},
   "outputs": [
    {
     "data": {
      "text/plain": [
       "'stem'"
      ]
     },
     "execution_count": 123,
     "metadata": {},
     "output_type": "execute_result"
    }
   ],
   "source": [
    "from nltk.stem.lancaster import LancasterStemmer\n",
    "st = LancasterStemmer()\n",
    "st.stem('stemmed')"
   ]
  },
  {
   "cell_type": "code",
   "execution_count": 124,
   "metadata": {},
   "outputs": [],
   "source": [
    "# print (news_tokens_lemmatize[0])\n",
    "# texts_stemmed = [[st.stem(word) for word in docment] for docment in news_tokens_lemmatize]\n",
    "# print (texts_stemmed[0])\n",
    "#比较以后 不靠谱， 比较如下\n",
    "# ['sure', 'bashers', 'pen', 'fan', 'pretty', 'confused', 'lack', 'kind', 'post', 'recent', 'pen', 'massacre', 'devil', 'actually', 'bit', 'puzzled', 'bit', 'relieve', 'however', 'go', 'put', 'end', 'non', 'pittsburghers', 'relief', 'bit', 'praise', 'pen', 'man', 'kill', 'devil', 'worse', 'think', 'jagr', 'show', 'much', 'better', 'regular', 'season', 'stats', 'also', 'lot', 'fo', 'fun', 'watch', 'playoff', 'bowman', 'let', 'jagr', 'lot', 'fun', 'next', 'couple', 'game', 'since', 'pen', 'go', 'beat', 'pulp', 'jersey', 'anyway', 'disappointed', 'see', 'islander', 'lose', 'final', 'regular', 'season', 'game', 'pen', 'rule']\n",
    "#['sur', 'bash', 'pen', 'fan', 'pretty', 'confus', 'lack', 'kind', 'post', 'rec', 'pen', 'massacr', 'devil', 'act', 'bit', 'puzzl', 'bit', 'reliev', 'howev', 'go', 'put', 'end', 'non', 'pittsburgh', 'reliev', 'bit', 'pra', 'pen', 'man', 'kil', 'devil', 'wors', 'think', 'jagr', 'show', 'much', 'bet', 'regul', 'season', 'stat', 'also', 'lot', 'fo', 'fun', 'watch', 'playoff', 'bowm', 'let', 'jagr', 'lot', 'fun', 'next', 'coupl', 'gam', 'sint', 'pen', 'go', 'beat', 'pulp', 'jersey', 'anyway', 'disappoint', 'see', 'island', 'los', 'fin', 'regul', 'season', 'gam', 'pen', 'rul']"
   ]
  },
  {
   "cell_type": "code",
   "execution_count": 125,
   "metadata": {},
   "outputs": [],
   "source": [
    "# from nltk.stem.porter import PorterStemmer\n",
    "# st = PorterStemmer()\n",
    "# st.stem('stemmed')\n",
    "# print (news_tokens_lemmatize[0])\n",
    "# texts_stemmed = [[st.stem(word) for word in docment] for docment in news_tokens_lemmatize]\n",
    "# print (texts_stemmed[0])\n",
    "# ['sure', 'bashers', 'pen', 'fan', 'pretty', 'confused', 'lack', 'kind', 'post', 'recent', 'pen', 'massacre', 'devil', 'actually', 'bit', 'puzzled', 'bit', 'relieve', 'however', 'go', 'put', 'end', 'non', 'pittsburghers', 'relief', 'bit', 'praise', 'pen', 'man', 'kill', 'devil', 'worse', 'think', 'jagr', 'show', 'much', 'better', 'regular', 'season', 'stats', 'also', 'lot', 'fo', 'fun', 'watch', 'playoff', 'bowman', 'let', 'jagr', 'lot', 'fun', 'next', 'couple', 'game', 'since', 'pen', 'go', 'beat', 'pulp', 'jersey', 'anyway', 'disappointed', 'see', 'islander', 'lose', 'final', 'regular', 'season', 'game', 'pen', 'rule']\n",
    "# ['sure', 'basher', 'pen', 'fan', 'pretti', 'confus', 'lack', 'kind', 'post', 'recent', 'pen', 'massacr', 'devil', 'actual', 'bit', 'puzzl', 'bit', 'reliev', 'howev', 'go', 'put', 'end', 'non', 'pittsburgh', 'relief', 'bit', 'prais', 'pen', 'man', 'kill', 'devil', 'wors', 'think', 'jagr', 'show', 'much', 'better', 'regular', 'season', 'stat', 'also', 'lot', 'fo', 'fun', 'watch', 'playoff', 'bowman', 'let', 'jagr', 'lot', 'fun', 'next', 'coupl', 'game', 'sinc', 'pen', 'go', 'beat', 'pulp', 'jersey', 'anyway', 'disappoint', 'see', 'island', 'lose', 'final', 'regular', 'season', 'game', 'pen', 'rule']"
   ]
  },
  {
   "cell_type": "markdown",
   "metadata": {},
   "source": [
    "# 模型分析"
   ]
  },
  {
   "cell_type": "code",
   "execution_count": 126,
   "metadata": {},
   "outputs": [
    {
     "name": "stdout",
     "output_type": "stream",
     "text": [
      "Training set has 12060 samples.\n",
      "Validation set has 3016 samples.\n",
      "Testing set has 3770 samples.\n"
     ]
    }
   ],
   "source": [
    "from sklearn.model_selection import train_test_split\n",
    "X_train, X_test, y_train, y_test = train_test_split(news_tokens_lemmatize, newsgroups_data.target, test_size=0.2, random_state=0)\n",
    "X_train, X_val, y_train, y_val = train_test_split(X_train, y_train, test_size=0.2, random_state=0)\n",
    "\n",
    "# 显示切分的结果\n",
    "print(\"Training set has {} samples.\".format(len(X_train)))\n",
    "print(\"Validation set has {} samples.\".format(len(X_val)))\n",
    "print(\"Testing set has {} samples.\".format(len(X_test)))"
   ]
  },
  {
   "cell_type": "markdown",
   "metadata": {},
   "source": [
    "数据集划分，将数据集按照1：4的比例划分，也就是1/5 = 0.2； 80%的训练数据，20%的测试数据； 训练数据中，也按照1：4划分，分成4份的训练数据和验证数据， 划分的结果如下： 训练集 12060， 验证集 3016，测试集 3770；"
   ]
  },
  {
   "cell_type": "markdown",
   "metadata": {},
   "source": [
    "保存预处理的数据，免得每次从头运行代码"
   ]
  },
  {
   "cell_type": "code",
   "execution_count": 127,
   "metadata": {},
   "outputs": [],
   "source": [
    "import numpy as np\n",
    "# from tempfile import TemporaryFile\n",
    "# outfile = TemporaryFile()\n",
    "# X_train_cxsontent = TemporaryFile()\n",
    "# x = np.arange(10)\n",
    "# np.save(outfile, x)\n",
    "# outfile.seek(0)\n",
    "# np.load(outfile)\n",
    "np.save('X_train.npy', X_train)\n",
    "np.save(\"X_val.npy\", X_val)\n",
    "np.save(\"X_test.npy\", X_test)\n",
    "\n",
    "np.save(\"y_train.npy\", y_train)\n",
    "np.save(\"y_val.npy\", y_val)\n",
    "np.save(\"y_test.npy\", y_test)"
   ]
  },
  {
   "cell_type": "markdown",
   "metadata": {},
   "source": [
    "### 使用词袋子模型进行预测"
   ]
  },
  {
   "cell_type": "markdown",
   "metadata": {},
   "source": [
    "加载预处理的数据"
   ]
  },
  {
   "cell_type": "code",
   "execution_count": 128,
   "metadata": {},
   "outputs": [],
   "source": [
    "import numpy as np\n",
    "X_train_bake = np.load(\"X_train.npy\")\n",
    "X_val_bake = np.load(\"X_val.npy\")\n",
    "X_test_bake = np.load(\"X_test.npy\")\n",
    "\n",
    "X_train_content = [' '.join(tmpist) for tmpist in X_train_bake]\n",
    "X_val_content = [' '.join(tmpist) for tmpist in X_val_bake]\n",
    "X_test_content = [' '.join(tmpist) for tmpist in X_test_bake]\n",
    "\n",
    "y_train = np.load(\"y_train.npy\")\n",
    "y_val = np.load(\"y_val.npy\")\n",
    "y_test = np.load(\"y_test.npy\")\n"
   ]
  },
  {
   "cell_type": "markdown",
   "metadata": {},
   "source": [
    "定义训练，评估模型\n"
   ]
  },
  {
   "cell_type": "code",
   "execution_count": 132,
   "metadata": {},
   "outputs": [],
   "source": [
    "from sklearn.metrics import fbeta_score, accuracy_score, log_loss\n",
    "from time import time\n",
    "from sklearn.externals import joblib\n",
    "# 通过init_flag控制模型是新模型还是已经持久化保存后的本地模型\n",
    "def com_train_predict(learner, X_train, y_train, X_val, y_val, clf_name, init_flag):\n",
    "    if init_flag: # 需要训练, 训练后保存模型\n",
    "        t0 = time()\n",
    "        learner.fit(X_train, y_train)\n",
    "        t1 = time()\n",
    "        print('train_time:', round(t1 - t0, 3), 's')\n",
    "        joblib.dump(learner, clf_name)\n",
    "    else: #不需要训练, 直接加载已有模型\n",
    "        learner = joblib.load(clf_name)\n",
    "    \n",
    "    # 得到在验证集上的预测值\n",
    "    t0 = time()\n",
    "    predictions_val = learner.predict(X_val)\n",
    "    predict_proba_val = learner.predict_proba(X_val)\n",
    "    t1 = time()\n",
    "    \n",
    "    # 计算预测用时\n",
    "    print('pred_time:', round(t1 - t0, 3), 's')\n",
    "    \n",
    "    # 计算在验证集上的准确率\n",
    "    accuracy_score_val = accuracy_score(y_val, predictions_val)\n",
    "    print('accuracy_score:', accuracy_score_val)\n",
    "    \n",
    "    # 计算在验证集上的log_loss\n",
    "    log_loss_val = log_loss(y_val, predict_proba_val)\n",
    "    print('log_loss:', log_loss_val)\n",
    "    \n",
    "    return  accuracy_score_val, log_loss_val"
   ]
  },
  {
   "cell_type": "markdown",
   "metadata": {},
   "source": [
    "使用CountVectorizer 对文本 特征进行 处理  "
   ]
  },
  {
   "cell_type": "code",
   "execution_count": 130,
   "metadata": {},
   "outputs": [
    {
     "name": "stdout",
     "output_type": "stream",
     "text": [
      " X_train shape: (12060, 63916)\n",
      " X_val shape: (3016, 63916)\n",
      " vocabulary length: 63916\n"
     ]
    }
   ],
   "source": [
    "from sklearn.feature_extraction.text import CountVectorizer\n",
    "\n",
    "countVec_train = CountVectorizer(analyzer = 'word')\n",
    "X_train_countVec = countVec_train.fit_transform(X_train_content)\n",
    "print(' X_train shape:', X_train_countVec.shape)\n",
    "X_val_countVec = countVec_train.transform(X_val_content)\n",
    "print(' X_val shape:', X_val_countVec.shape)\n",
    "\n",
    "print(' vocabulary length:', len(countVec_train.vocabulary_))\n"
   ]
  },
  {
   "cell_type": "code",
   "execution_count": 133,
   "metadata": {
    "scrolled": true
   },
   "outputs": [
    {
     "name": "stdout",
     "output_type": "stream",
     "text": [
      "DecisionTreeClassifier 结果如下:\n",
      "train_time: 13.342 s\n",
      "pred_time: 0.007 s\n",
      "accuracy_score: 0.616710875331565\n",
      "log_loss: 13.23833737152414\n",
      "SVC 结果如下:\n",
      "train_time: 266.476 s\n",
      "pred_time: 32.15 s\n",
      "accuracy_score: 0.7765251989389921\n",
      "log_loss: 0.8916666142343332\n",
      "MultinomialNB 结果如下:\n",
      "train_time: 0.093 s\n",
      "pred_time: 0.039 s\n",
      "accuracy_score: 0.8305702917771883\n",
      "log_loss: 1.895965367583531\n"
     ]
    }
   ],
   "source": [
    "# 从sklearn中分别导入 DecisionTreeClassifier， SVC， MNB 三个模型\n",
    "from sklearn.tree import DecisionTreeClassifier\n",
    "from sklearn.svm import SVC\n",
    "from sklearn.naive_bayes import MultinomialNB\n",
    "\n",
    "# 初始化三个模型\n",
    "clf_DTC = DecisionTreeClassifier()\n",
    "clf_SVC = SVC(kernel='linear', probability=True)\n",
    "clf_MNB = MultinomialNB()\n",
    "\n",
    "# 进行训练\n",
    "init_flag = True\n",
    "#进行训练评估\n",
    "print('DecisionTreeClassifier 结果如下:')\n",
    "dtc_acc_countvec, dtc_loss_countvec =  com_train_predict(clf_DTC, X_train_countVec, y_train, X_val_countVec, y_val, 'clf_cntvec_dtc.pkl', init_flag)\n",
    "print('SVC 结果如下:')\n",
    "svc_acc_countvec, svc_loss_countvec =  com_train_predict(clf_SVC, X_train_countVec, y_train, X_val_countVec, y_val, 'clf_cntvec_svc.pkl', init_flag)\n",
    "print('MultinomialNB 结果如下:')\n",
    "mnb_acc_countvec, mnb_loss_countvec = com_train_predict(clf_MNB, X_train_countVec, y_train, X_val_countVec, y_val, 'clf_cntvec_mnb.pkl', init_flag)\n"
   ]
  },
  {
   "cell_type": "markdown",
   "metadata": {},
   "source": [
    "使用TfidfVectorizer 对文本特征进行处理  "
   ]
  },
  {
   "cell_type": "code",
   "execution_count": 134,
   "metadata": {},
   "outputs": [
    {
     "name": "stdout",
     "output_type": "stream",
     "text": [
      " X_train shape: (12060, 63916)\n",
      " X_val shape: (3016, 63916)\n",
      " vocabulary length 63916\n"
     ]
    }
   ],
   "source": [
    "from sklearn.feature_extraction.text import TfidfVectorizer\n",
    "\n",
    "tfidfVec_train = TfidfVectorizer(analyzer='word')\n",
    "X_train_tfidfVec = tfidfVec_train.fit_transform(X_train_content)\n",
    "print(' X_train shape:', X_train_tfidfVec.shape)\n",
    "X_val_tfidfVec = tfidfVec_train.transform(X_val_content)\n",
    "print(' X_val shape:', X_val_tfidfVec.shape)\n",
    "\n",
    "print(' vocabulary length', len(tfidfVec_train.vocabulary_))\n"
   ]
  },
  {
   "cell_type": "code",
   "execution_count": 135,
   "metadata": {},
   "outputs": [
    {
     "name": "stdout",
     "output_type": "stream",
     "text": [
      "DecisionTreeClassifier:\n",
      "train_time: 21.402 s\n",
      "pred_time: 0.014 s\n",
      "accuracy_score: 0.6021220159151194\n",
      "log_loss: 13.742218724765545\n",
      "SVC:\n",
      "train_time: 654.052 s\n",
      "pred_time: 39.591 s\n",
      "accuracy_score: 0.8687002652519894\n",
      "log_loss: 0.4478640514706054\n",
      "MultinomialNB:\n",
      "train_time: 0.087 s\n",
      "pred_time: 0.029 s\n",
      "accuracy_score: 0.8381962864721485\n",
      "log_loss: 1.1879188736795225\n"
     ]
    }
   ],
   "source": [
    "# 初始化三个模型\n",
    "clf_DTC = DecisionTreeClassifier()\n",
    "clf_SVC = SVC(kernel = 'linear', probability=True)\n",
    "clf_MNB = MultinomialNB()\n",
    "\n",
    "inif_flag = True\n",
    "\n",
    "# 进行训练评估\n",
    "print('DecisionTreeClassifier:')\n",
    "dtc_acc_tfidfvec, dtc_loss_tfidfvec = com_train_predict(clf_DTC, X_train_tfidfVec, y_train, X_val_tfidfVec, y_val, 'clf_tfidfvec_dtc.pkl', init_flag)\n",
    "print('SVC:')\n",
    "svc_acc_tfidfvec, svc_loss_tfidfvec = com_train_predict(clf_SVC, X_train_tfidfVec, y_train, X_val_tfidfVec, y_val, 'clf_tfidfvec_svc.pkl', init_flag)\n",
    "print('MultinomialNB:')\n",
    "mnb_acc_tfidfvec, mnb_loss_tfidfvec = com_train_predict(clf_MNB, X_train_tfidfVec, y_train, X_val_tfidfVec, y_val, 'clf_tfidfvec_mnb.pkl',init_flag)"
   ]
  },
  {
   "cell_type": "markdown",
   "metadata": {},
   "source": [
    " CountVectorizer 和  TfidfVectorizer 两种方式对比如下： \n"
   ]
  },
  {
   "cell_type": "code",
   "execution_count": null,
   "metadata": {},
   "outputs": [],
   "source": [
    "                        DTC        SVC          MNB    \n",
    "count_accuracy_score   0.6021     0.776        0.83    \n",
    "count_train_time       13.342     266.476      0.093     \n",
    "count_loss             13.23      0.891        1.89   \n",
    "\n",
    "tfidf_accuracy_score   0.60       0.868        0.838   \n",
    "tfidf_train_time       21.402     654.052      0.087    \n",
    "tfidf_loss             13.742     0.4478       1.1879   \n"
   ]
  },
  {
   "cell_type": "code",
   "execution_count": 136,
   "metadata": {},
   "outputs": [
    {
     "data": {
      "text/plain": [
       "Text(0.5,1,'log_loss')"
      ]
     },
     "execution_count": 136,
     "metadata": {},
     "output_type": "execute_result"
    },
    {
     "data": {
      "text/plain": [
       "<Figure size 576x288 with 0 Axes>"
      ]
     },
     "metadata": {},
     "output_type": "display_data"
    },
    {
     "data": {
      "image/png": "[encoded data removed]",
      "text/plain": [
       "<Figure size 1152x432 with 2 Axes>"
      ]
     },
     "metadata": {
      "needs_background": "light"
     },
     "output_type": "display_data"
    }
   ],
   "source": [
    "import matplotlib.pyplot as plt\n",
    "import numpy as np\n",
    "# Simple data to display in various forms\n",
    "x =  [\"DTC\",\"SVC\",\"MNB\"] \n",
    "y_cntvec_acc = [dtc_acc_countvec, svc_acc_countvec, mnb_acc_countvec] \n",
    "y_tfidfvec_acc = [dtc_acc_tfidfvec, svc_acc_tfidfvec, mnb_acc_tfidfvec] \n",
    "\n",
    "y_cntvec_los = [dtc_loss_countvec, svc_loss_countvec, mnb_loss_countvec]\n",
    "y_tfidfvec_los = [dtc_loss_tfidfvec, svc_loss_tfidfvec, mnb_loss_tfidfvec]\n",
    "\n",
    "plt.figure(figsize=(8,4))\n",
    "\n",
    "# Two subplots, the axes array is 1-d\n",
    "f, axarr = plt.subplots(2, sharex=True)\n",
    "\n",
    "axarr[0].plot(x, y_cntvec_acc, 'cx--', y_tfidfvec_acc )\n",
    "axarr[0].set_title('accuracy_score')\n",
    "\n",
    "axarr[1].plot(x, y_cntvec_los, 'cx--', y_tfidfvec_los )\n",
    "axarr[1].set_title('log_loss')\n",
    "\n"
   ]
  },
  {
   "cell_type": "markdown",
   "metadata": {},
   "source": [
    "观察对比，发现: DTC决策树模型表现很差，loss很高，accuracy_score很低； 而svc 模型 loss很低，accuracy_score 很高，表现最好。 MNB模型比 SVC稍微差一些。 另外，采用 TfidfVectorizer【图中实线表示】 表示文本，要比 countVectorizer 【用虚线表示的】要好，tfidf的accuracy_score 要比count要高。 loss 低一些。 "
   ]
  },
  {
   "cell_type": "markdown",
   "metadata": {},
   "source": [
    "对模型进行 优化\n"
   ]
  },
  {
   "cell_type": "code",
   "execution_count": 164,
   "metadata": {},
   "outputs": [
    {
     "name": "stdout",
     "output_type": "stream",
     "text": [
      "grid train_time: 39.323 s\n",
      "优化前------\n",
      "accuracy_score on validation data: 0.8382\n",
      "Log_loss_val   on the validation data: 0.4487\n",
      "优化后-----\n",
      "accuracy_score on the validation data: 0.8657\n",
      "log_loss_val  on the validation data: 0.4487\n",
      "now best_params_: {'alpha': 0.01, 'fit_prior': False}\n"
     ]
    }
   ],
   "source": [
    "from sklearn.model_selection import GridSearchCV\n",
    "from sklearn.metrics import make_scorer\n",
    "# 初始化分类器\n",
    "clf =MultinomialNB()#   SVC(kernel='linear', probability=True) #\n",
    "\n",
    "# 创建进行调节的参数列表\n",
    "parameters = {'alpha':( 0.001, 0.01, 0.1, 1.0, 10.0, 100.0),'fit_prior':(True,False)}\n",
    "# parameters = {'alpha':( 0.01, 0.1, 1.0, 10.0, 100.0),'fit_prior':(True,False)}\n",
    "\n",
    "# 创建一个accuracy_score打分对象\n",
    "scorer = make_scorer(score_func=log_loss, greater_is_better=False, needs_proba=True)\n",
    "\n",
    "#在分类器上使用网格搜索，使用'scorer'作为评价函数\n",
    "grid_obj = GridSearchCV(estimator=clf,param_grid=parameters,scoring=scorer,n_jobs=-2,cv=10)\n",
    "\n",
    "init_flag = True # 模型是否需要训练\n",
    "clf_name = 'tfidf_best.pkl'\n",
    "if init_flag:#需要训练，训练后保存模型\n",
    "    t0 = time() # 获得程序开始时间\n",
    "    # 用训练数据拟合网格搜索对象并找到最佳参数\n",
    "    grid_obj.fit(X_train_tfidfVec, y_train)\n",
    "    t1 = time() # 获得程序结束时间\n",
    "    # 计算训练时间\n",
    "    print('grid train_time:',round(t1 - t0, 3),\"s\")\n",
    "    joblib.dump(grid_obj, clf_name)\n",
    "else:#不需要训练，直接加载已有模型\n",
    "    grid_obj = joblib.load(clf_name)\n",
    "\n",
    "# 得到estimator\n",
    "best_clf = grid_obj.best_estimator_\n",
    "\n",
    "# 使用没有调优的模型做预测\n",
    "clf = joblib.load('clf_tfidfvec_mnb.pkl')#clf_tfidfvec_svc， clf_tfidfvec_dtc，  clf_tfidfvec_mnb\n",
    "\n",
    "predictions = clf.predict(X_val_tfidfVec)\n",
    "predict_proba_val = best_clf.predict_proba(X_val_tfidfVec)\n",
    "best_predictions = best_clf.predict(X_val_tfidfVec)\n",
    "best_proba_val = best_clf.predict_proba(X_val_tfidfVec)\n",
    "\n",
    "# 汇报调参前和调参后的分数\n",
    "print(\"优化前------\")\n",
    "print(\"accuracy_score on validation data: {:.4f}\".format(accuracy_score(y_val,predictions)))\n",
    "print('Log_loss_val   on the validation data: {:.4f}'.format(log_loss(y_val,predict_proba_val)))\n",
    "\n",
    "print(\"优化后-----\")\n",
    "print(\"accuracy_score on the validation data: {:.4f}\".format(accuracy_score(y_val,best_predictions)))\n",
    "# 计算在验证上的log_loss\n",
    "print('log_loss_val  on the validation data: {:.4f}'.format(log_loss(y_val,best_proba_val)))\n",
    "\n",
    "print('now best_params_:',grid_obj.best_params_)"
   ]
  },
  {
   "cell_type": "markdown",
   "metadata": {},
   "source": [
    "使用TfidfVectorizer后， 优化结果后，   \n",
    "accuracy_score 优化后，结果还是稍微提高的。    \n",
    "log_loss  没有变化。   \n",
    "\n",
    "\n"
   ]
  },
  {
   "cell_type": "code",
   "execution_count": null,
   "metadata": {},
   "outputs": [],
   "source": [
    "优化前-    accuracy_score    0.8382    Log_loss   0.4487    \n",
    "优化后-                      0.8657               0.4487    "
   ]
  },
  {
   "cell_type": "code",
   "execution_count": 144,
   "metadata": {},
   "outputs": [
    {
     "name": "stdout",
     "output_type": "stream",
     "text": [
      " val shape: (3770, 63916)\n"
     ]
    }
   ],
   "source": [
    "X_test_tfidfVec = tfidfVec_train.transform(X_test_content)\n",
    "print(' val shape:',X_test_tfidfVec.shape)"
   ]
  },
  {
   "cell_type": "code",
   "execution_count": 145,
   "metadata": {},
   "outputs": [
    {
     "name": "stdout",
     "output_type": "stream",
     "text": [
      "Accuracy_score on test data: 0.8615\n",
      "Log_loss_val on the test data: 0.4812\n"
     ]
    }
   ],
   "source": [
    "clf = joblib.load('clf_tfidfvec_svc.pkl') \n",
    "test_predictions = clf.predict(X_test_tfidfVec)\n",
    "test_proba_val = clf.predict_proba(X_test_tfidfVec)\n",
    "print(\"Accuracy_score on test data: {:.4f}\".format(accuracy_score(y_test,test_predictions)))\n",
    "print('Log_loss_val on the test data: {:.4f}'.format(log_loss(y_test,test_proba_val)))"
   ]
  },
  {
   "cell_type": "code",
   "execution_count": 146,
   "metadata": {},
   "outputs": [
    {
     "name": "stdout",
     "output_type": "stream",
     "text": [
      "Accuracy_score on test data: 0.8597\n",
      "Log_loss_val on the test data: 0.4665\n"
     ]
    }
   ],
   "source": [
    "clf = joblib.load('tfidf_best.pkl') \n",
    "test_predictions = clf.predict(X_test_tfidfVec)\n",
    "test_proba_val = clf.predict_proba(X_test_tfidfVec)\n",
    "print(\"Accuracy_score on test data: {:.4f}\".format(accuracy_score(y_test,test_predictions)))\n",
    "print('Log_loss_val on the test data: {:.4f}'.format(log_loss(y_test,test_proba_val)))"
   ]
  },
  {
   "cell_type": "markdown",
   "metadata": {},
   "source": [
    "测试数据集上，准确率达到0.75, Log_loss为0.8243,    \n",
    "之前的数据是 0.7183，Log_loss为0.9529,   \n",
    "对比发现，还是有所提高的。   "
   ]
  },
  {
   "cell_type": "markdown",
   "metadata": {},
   "source": [
    "通过对比，优化后的SVC模型，还可以， 虽然还没达到80%，但超过了70%"
   ]
  },
  {
   "cell_type": "code",
   "execution_count": 147,
   "metadata": {},
   "outputs": [
    {
     "data": {
      "image/png": "[encoded data removed]",
      "text/plain": [
       "<Figure size 1152x432 with 1 Axes>"
      ]
     },
     "metadata": {
      "needs_background": "light"
     },
     "output_type": "display_data"
    }
   ],
   "source": [
    "#For test \n",
    "import numpy as np\n",
    "la = np.linalg\n",
    "words = [\"I\", \"like\", \"enjoy\", \"deep\", \"learning\", \"NLP\", \"flying\", \".\"]\n",
    "X = np.array ([[0,2,1,0,0,0,0,0],\n",
    "               [2,0,0,1,0,1,0,0],\n",
    "               [1,0,0,0,0,0,1,0],\n",
    "               [0,1,0,0,1,0,0,0],\n",
    "               [0,0,0,1,0,0,0,1],\n",
    "               [0,1,0,0,0,0,0,1],\n",
    "               [0,0,1,0,0,0,0,1],\n",
    "               [0,0,0,0,1,1,1,0]])\n",
    "U,s,Vh = la.svd(X, full_matrices=False)\n",
    "\n",
    "for i in range(len(words)):\n",
    "    plt.text(U[i,0], U[i,1], words[i])"
   ]
  },
  {
   "cell_type": "markdown",
   "metadata": {},
   "source": [
    "------------------------------------------------------------------------------------------------------------"
   ]
  },
  {
   "cell_type": "markdown",
   "metadata": {},
   "source": [
    "### 词向量模型"
   ]
  },
  {
   "cell_type": "markdown",
   "metadata": {},
   "source": [
    "加载之前保存的预处理的数据"
   ]
  },
  {
   "cell_type": "code",
   "execution_count": 148,
   "metadata": {},
   "outputs": [],
   "source": [
    "import numpy as np\n",
    "X_train_bake = np.load(\"X_train.npy\")\n",
    "X_val_bake = np.load(\"X_val.npy\")\n",
    "X_test_bake = np.load(\"X_test.npy\")\n",
    "\n",
    "X_train_content = [' '.join(tmplist) for tmplist in X_train_bake]\n",
    "X_val_content = [' '.join(tmplist) for tmplist in X_val_bake]\n",
    "X_test_content = [' '.join(tmplist) for tmplist in X_test_bake]\n",
    "\n",
    "y_train = np.load(\"y_train.npy\")\n",
    "y_val = np.load(\"y_val.npy\")\n",
    "y_test = np.load(\"y_test.npy\")\n",
    "\n",
    "\n",
    "y_train = np.load(\"y_train.npy\")\n",
    "y_val = np.load(\"y_val.npy\")\n",
    "y_test = np.load(\"y_test.npy\")"
   ]
  },
  {
   "cell_type": "markdown",
   "metadata": {},
   "source": [
    "采用Word2Vec方式展示文本，对文本特征进行提取"
   ]
  },
  {
   "cell_type": "code",
   "execution_count": 149,
   "metadata": {},
   "outputs": [],
   "source": [
    "# 引入 word2vec\n",
    "import warnings\n",
    "warnings.filterwarnings(action='ignore', category=UserWarning, module='gensim')\n",
    "import gensim\n",
    "from gensim.models import word2vec\n",
    "EMBEDDING_DIM = 120# 词向量空间维度\n",
    "model_fname = 'word2vec.model'\n",
    "mode_init = True"
   ]
  },
  {
   "cell_type": "markdown",
   "metadata": {},
   "source": [
    "训练后的模型保存与加载"
   ]
  },
  {
   "cell_type": "code",
   "execution_count": 150,
   "metadata": {},
   "outputs": [],
   "source": [
    "if mode_init:\n",
    "    sentences = []\n",
    "    sentences.extend([temp.split(' ') for temp in X_train_content])\n",
    "    sentences.extend([temp.split(' ') for temp in X_val_content])\n",
    "    sentences.extend([temp.split(' ') for temp in X_test_content])\n",
    "    newsgroups_model = word2vec.Word2Vec(sentences, size=EMBEDDING_DIM, window=5)  \n",
    "    newsgroups_model.save(model_fname)\n",
    "else:\n",
    "    newsgroups_model = word2vec.Word2Vec.load(model_fname)"
   ]
  },
  {
   "cell_type": "markdown",
   "metadata": {},
   "source": [
    "简单例子测试"
   ]
  },
  {
   "cell_type": "code",
   "execution_count": 151,
   "metadata": {},
   "outputs": [
    {
     "name": "stdout",
     "output_type": "stream",
     "text": [
      "[('weaver', 0.7902897000312805)]\n",
      "cereal\n",
      "0.6838021818759299\n",
      "[('son', 0.7912732362747192), ('holy', 0.7856602668762207), ('wast', 0.7843198776245117), ('spirit', 0.7764400243759155), ('father', 0.7720842361450195), ('heaven', 0.7708898782730103), ('grace', 0.7650618553161621), ('thou', 0.7628023624420166), ('lord', 0.7539628148078918), ('unto', 0.7466064691543579)]\n"
     ]
    }
   ],
   "source": [
    "def simple_test_word2vec(model):\n",
    "    print(model.wv.most_similar(positive=['woman', 'king'], negative=['man'], topn=1))\n",
    "    print(model.wv.doesnt_match(\"breakfast cereal dinner lunch\".split()))\n",
    "    print(model.wv.similarity('woman', 'man'))\n",
    "    print(model.wv.most_similar(['man']))\n",
    "simple_test_word2vec(newsgroups_model)"
   ]
  },
  {
   "cell_type": "markdown",
   "metadata": {},
   "source": [
    "特征提取: 单词与序号通过word_index来管理， 相应的标签采用独热向量，这里用 keras 的 to_categorical来实现"
   ]
  },
  {
   "cell_type": "code",
   "execution_count": 152,
   "metadata": {},
   "outputs": [
    {
     "name": "stdout",
     "output_type": "stream",
     "text": [
      "Found 84717 unique all texts tokens.\n",
      "Shape of train label tensor: (12060, 20)\n",
      "Shape of val label tensor: (3016, 20)\n",
      "Shape of test label tensor: (3770, 20)\n"
     ]
    }
   ],
   "source": [
    "from keras.preprocessing.text import Tokenizer\n",
    "from keras.utils import to_categorical\n",
    "import numpy as np\n",
    "\n",
    "all_texts = []\n",
    "all_texts.extend(X_train_content)\n",
    "all_texts.extend(X_val_content)\n",
    "all_texts.extend(X_test_content)\n",
    "\n",
    "all_texts_tokenizer = Tokenizer()\n",
    "all_texts_tokenizer.fit_on_texts(all_texts)\n",
    "all_texts_word_index = all_texts_tokenizer.word_index\n",
    "\n",
    "print('Found %s unique all texts tokens.' % len(all_texts_word_index))\n",
    "\n",
    "all_labels = []\n",
    "all_labels.extend(y_train)\n",
    "all_labels.extend(y_val)\n",
    "all_labels.extend(y_test)\n",
    "\n",
    "all_labels = to_categorical(np.asarray(all_labels))\n",
    "\n",
    "y_train_labels = to_categorical(np.asarray(y_train))\n",
    "print('Shape of train label tensor:', y_train_labels.shape)\n",
    "\n",
    "y_val_labels = to_categorical(np.asarray(y_val))\n",
    "print('Shape of val label tensor:', y_val_labels.shape)\n",
    "\n",
    "y_test_labels = to_categorical(np.asarray(y_test))\n",
    "print('Shape of test label tensor:', y_test_labels.shape)"
   ]
  },
  {
   "cell_type": "code",
   "execution_count": 153,
   "metadata": {},
   "outputs": [
    {
     "name": "stdout",
     "output_type": "stream",
     "text": [
      "Shape of train tensor: (12060, 500)\n",
      "Shape of val tensor: (3016, 500)\n",
      "Shape of test tensor: (3770, 500)\n"
     ]
    }
   ],
   "source": [
    "MAX_SEQUENCE_LENGTH = 500 # 每条新闻最大长度\n",
    "\n",
    "from keras.preprocessing.sequence import pad_sequences\n",
    "X_train_sequences = pad_sequences(all_texts_tokenizer.texts_to_sequences(X_train_content), maxlen=MAX_SEQUENCE_LENGTH)\n",
    "X_val_sequences = pad_sequences(all_texts_tokenizer.texts_to_sequences(X_val_content), maxlen=MAX_SEQUENCE_LENGTH)\n",
    "X_test_sequences = pad_sequences(all_texts_tokenizer.texts_to_sequences(X_test_content), maxlen=MAX_SEQUENCE_LENGTH)\n",
    "\n",
    "print('Shape of train tensor:', X_train_sequences.shape)\n",
    "print('Shape of val tensor:', X_val_sequences.shape)\n",
    "print('Shape of test tensor:', X_test_sequences.shape)"
   ]
  },
  {
   "cell_type": "markdown",
   "metadata": {},
   "source": [
    "构建嵌入层 Embedding"
   ]
  },
  {
   "cell_type": "code",
   "execution_count": 154,
   "metadata": {},
   "outputs": [],
   "source": [
    "from keras.utils import plot_model\n",
    "from keras.layers import Embedding\n",
    "import gensim\n",
    "\n",
    "from keras.layers import Dense, Input, Flatten, Dropout, Activation, LSTM\n",
    "from keras.layers import Conv1D, MaxPooling1D, Embedding, concatenate\n",
    "from keras.models import Sequential, Model\n",
    "\n",
    "w2v_model = newsgroups_model\n",
    "embedding_matrix = np.zeros((len(all_texts_word_index) + 1, EMBEDDING_DIM))\n",
    "\n",
    "for word, i in all_texts_word_index.items():\n",
    "    if word in w2v_model.wv:\n",
    "        embedding_matrix[i] = np.asarray(w2v_model.wv[word],dtype='float32')\n",
    "        \n",
    "embedding_layer = Embedding(len(all_texts_word_index) + 1,\n",
    "                            EMBEDDING_DIM,\n",
    "                            weights=[embedding_matrix],\n",
    "                            input_length=MAX_SEQUENCE_LENGTH,\n",
    "                            trainable=False)"
   ]
  },
  {
   "cell_type": "markdown",
   "metadata": {},
   "source": [
    "采用 LSTM模型 keras\n"
   ]
  },
  {
   "cell_type": "code",
   "execution_count": 155,
   "metadata": {},
   "outputs": [
    {
     "name": "stdout",
     "output_type": "stream",
     "text": [
      "_________________________________________________________________\n",
      "Layer (type)                 Output Shape              Param #   \n",
      "=================================================================\n",
      "embedding_2 (Embedding)      (None, 500, 120)          10166160  \n",
      "_________________________________________________________________\n",
      "lstm_2 (LSTM)                (None, 200)               256800    \n",
      "_________________________________________________________________\n",
      "dropout_2 (Dropout)          (None, 200)               0         \n",
      "_________________________________________________________________\n",
      "dense_2 (Dense)              (None, 20)                4020      \n",
      "=================================================================\n",
      "Total params: 10,426,980\n",
      "Trainable params: 260,820\n",
      "Non-trainable params: 10,166,160\n",
      "_________________________________________________________________\n"
     ]
    }
   ],
   "source": [
    "from keras.initializers import RandomNormal\n",
    "#定义模型\n",
    "def init_LSTM_model(MAX_SEQUENCE_LENGTH,embedding_layer):\n",
    "    model = Sequential()\n",
    "    model.add(embedding_layer)\n",
    "    model.add(LSTM(200, dropout=0.2, recurrent_dropout=0.2))#kernel_regularizer=RandomNormal(stddev=0.01,seed=0.1),\n",
    "    model.add(Dropout(0.2))\n",
    "    model.add(Dense(all_labels.shape[1], activation='softmax'))\n",
    "    return model\n",
    "\n",
    "LSTM_model = init_LSTM_model(MAX_SEQUENCE_LENGTH,embedding_layer)\n",
    "LSTM_model.summary()"
   ]
  },
  {
   "cell_type": "code",
   "execution_count": 156,
   "metadata": {},
   "outputs": [],
   "source": [
    "LSTM_model.compile(loss='categorical_crossentropy',\n",
    "              optimizer='rmsprop',#adam,sgd,rmsprop\n",
    "              metrics=['accuracy'])"
   ]
  },
  {
   "cell_type": "code",
   "execution_count": 157,
   "metadata": {},
   "outputs": [
    {
     "name": "stdout",
     "output_type": "stream",
     "text": [
      "C:\\ProgramData\\Anaconda2\\envs\\tensorflow36\\python.exe\n"
     ]
    }
   ],
   "source": [
    "import h5py\n",
    "model_path = 'saved_models/weights.LSTM.hdf5'\n",
    "# fileok = h5py.File(model_path)\n",
    "import sys\n",
    "print (sys.executable)"
   ]
  },
  {
   "cell_type": "code",
   "execution_count": 158,
   "metadata": {
    "scrolled": true
   },
   "outputs": [
    {
     "name": "stdout",
     "output_type": "stream",
     "text": [
      "starting...\n",
      "Train on 12060 samples, validate on 3016 samples\n",
      "Epoch 1/20\n",
      "12060/12060 [==============================] - 201s 17ms/step - loss: 2.0306 - acc: 0.3240 - val_loss: 1.6400 - val_acc: 0.4234\n",
      "Epoch 2/20\n",
      "12060/12060 [==============================] - 192s 16ms/step - loss: 1.6070 - acc: 0.4427 - val_loss: 1.3526 - val_acc: 0.5355\n",
      "Epoch 3/20\n",
      "12060/12060 [==============================] - 196s 16ms/step - loss: 1.4454 - acc: 0.4999 - val_loss: 1.2912 - val_acc: 0.5388\n",
      "Epoch 4/20\n",
      "12060/12060 [==============================] - 194s 16ms/step - loss: 1.3236 - acc: 0.5425 - val_loss: 1.3610 - val_acc: 0.5587\n",
      "Epoch 5/20\n",
      "12060/12060 [==============================] - 210s 17ms/step - loss: 1.2438 - acc: 0.5718 - val_loss: 1.1223 - val_acc: 0.6111\n",
      "Epoch 6/20\n",
      "12060/12060 [==============================] - 206s 17ms/step - loss: 1.1745 - acc: 0.5915 - val_loss: 1.0745 - val_acc: 0.6359\n",
      "Epoch 7/20\n",
      "12060/12060 [==============================] - 195s 16ms/step - loss: 1.1024 - acc: 0.6244 - val_loss: 1.0364 - val_acc: 0.6475\n",
      "Epoch 8/20\n",
      "12060/12060 [==============================] - 195s 16ms/step - loss: 1.0417 - acc: 0.6441 - val_loss: 1.0130 - val_acc: 0.6558\n",
      "Epoch 9/20\n",
      "12060/12060 [==============================] - 198s 16ms/step - loss: 0.9732 - acc: 0.6672 - val_loss: 0.9442 - val_acc: 0.6893\n",
      "Epoch 10/20\n",
      "12060/12060 [==============================] - 195s 16ms/step - loss: 0.9346 - acc: 0.6787 - val_loss: 0.9185 - val_acc: 0.6890\n",
      "Epoch 11/20\n",
      "12060/12060 [==============================] - 196s 16ms/step - loss: 0.8938 - acc: 0.6961 - val_loss: 0.8883 - val_acc: 0.6996\n",
      "Epoch 12/20\n",
      "12060/12060 [==============================] - 194s 16ms/step - loss: 0.8472 - acc: 0.7092 - val_loss: 0.8538 - val_acc: 0.7109\n",
      "Epoch 13/20\n",
      "12060/12060 [==============================] - 195s 16ms/step - loss: 0.8115 - acc: 0.7248 - val_loss: 0.8205 - val_acc: 0.7381\n",
      "Epoch 14/20\n",
      "12060/12060 [==============================] - 191s 16ms/step - loss: 0.7751 - acc: 0.7337 - val_loss: 0.8285 - val_acc: 0.7258\n",
      "Epoch 15/20\n",
      "12060/12060 [==============================] - 190s 16ms/step - loss: 0.7452 - acc: 0.7510 - val_loss: 0.8266 - val_acc: 0.7221\n",
      "Epoch 16/20\n",
      "12060/12060 [==============================] - 198s 16ms/step - loss: 0.7019 - acc: 0.7687 - val_loss: 0.7746 - val_acc: 0.7507\n",
      "Epoch 17/20\n",
      "12060/12060 [==============================] - 200s 17ms/step - loss: 0.6707 - acc: 0.7728 - val_loss: 0.7626 - val_acc: 0.7477\n",
      "Epoch 18/20\n",
      "12060/12060 [==============================] - 218s 18ms/step - loss: 0.6324 - acc: 0.7906 - val_loss: 0.7708 - val_acc: 0.7483\n",
      "Epoch 19/20\n",
      "12060/12060 [==============================] - 238s 20ms/step - loss: 0.6201 - acc: 0.7939 - val_loss: 0.7493 - val_acc: 0.7599\n",
      "Epoch 20/20\n",
      "12060/12060 [==============================] - 205s 17ms/step - loss: 0.5965 - acc: 0.7985 - val_loss: 0.7819 - val_acc: 0.7487\n",
      "train_lstm_time: 4009.521 s\n"
     ]
    }
   ],
   "source": [
    "from keras.callbacks import ModelCheckpoint\n",
    "from time import time \n",
    "init_flag = True #是否训练模型\n",
    "model_path = 'saved_models/weights.LSTM.hdf5'\n",
    "if init_flag:\n",
    "    ### 训练模型'\n",
    "    t0 = time()    \n",
    "    print('starting...')\n",
    "    checkpointer = ModelCheckpoint(filepath=model_path, save_best_only=True)\n",
    "    history = LSTM_model.fit(X_train_sequences, y_train_labels, validation_data=(X_val_sequences, y_val_labels),\n",
    "              epochs=20, batch_size=128, callbacks=[checkpointer])\n",
    "    t1 = time()\n",
    "    print('train_lstm_time:', round(t1 - t0, 3), 's')"
   ]
  },
  {
   "cell_type": "markdown",
   "metadata": {},
   "source": [
    "训练集和验证集的损失曲线："
   ]
  },
  {
   "cell_type": "code",
   "execution_count": 167,
   "metadata": {},
   "outputs": [
    {
     "data": {
      "image/png": "[encoded data removed]",
      "text/plain": [
       "<Figure size 1152x432 with 1 Axes>"
      ]
     },
     "metadata": {
      "needs_background": "light"
     },
     "output_type": "display_data"
    }
   ],
   "source": [
    "import matplotlib.pyplot as plt\n",
    "from scipy import misc\n",
    "img_path = 'LSTM_loss.png'\n",
    "if init_flag:\n",
    "    loss = history.history['loss']\n",
    "    val_loss = history.history['val_loss']\n",
    "    epochs = range(1, len(loss) + 1)\n",
    "    plt.plot(epochs, loss, 'mo', label='Training loss')\n",
    "    plt.plot(epochs, val_loss, 'b--', label='Validation loss')\n",
    "    plt.title('Training and validation loss')\n",
    "    plt.xlabel('Epochs')\n",
    "    plt.ylabel('Loss')\n",
    "    plt.legend()\n",
    "    plt.savefig(img_path, dpi=75)\n",
    "    plt.show()\n",
    "else:\n",
    "    image = plt.imread(img_path)\n",
    "    misc.imresize(image, (450,300))\n",
    "    plt.imshow(image)\n",
    "    plt.axis('off') # clear x- and y-axes  \n",
    "    plt.show()"
   ]
  },
  {
   "cell_type": "markdown",
   "metadata": {},
   "source": [
    "训练集和验证集的正确率曲线："
   ]
  },
  {
   "cell_type": "code",
   "execution_count": 166,
   "metadata": {},
   "outputs": [
    {
     "data": {
      "image/png": "[encoded data removed]",
      "text/plain": [
       "<Figure size 1152x432 with 1 Axes>"
      ]
     },
     "metadata": {
      "needs_background": "light"
     },
     "output_type": "display_data"
    }
   ],
   "source": [
    "plt.clf()   # clear figure\n",
    "plt.clf()   # clear figure\n",
    "img_path = 'LSTM_acc.png'\n",
    "if init_flag:\n",
    "    acc = history.history['acc']\n",
    "    val_acc = history.history['val_acc']\n",
    "    plt.plot(epochs, acc, 'mo', label='Training acc')\n",
    "    plt.plot(epochs, val_acc, 'b--', label='Validation acc')\n",
    "    plt.title('Training and validation accuracy')\n",
    "    plt.xlabel('Epochs')\n",
    "    plt.ylabel('Accuracy')\n",
    "    plt.legend()\n",
    "    plt.savefig(img_path, dpi=75)\n",
    "    plt.show()\n",
    "else:\n",
    "    image = plt.imread(img_path)\n",
    "    misc.imresize(image, (450,300))\n",
    "    plt.imshow(image)  \n",
    "    plt.axis('off') # clear x- and y-axes  \n",
    "    plt.show()"
   ]
  },
  {
   "cell_type": "markdown",
   "metadata": {},
   "source": [
    "通过图像分析，LSTM模型在前15轮的表现很不错；accuracy_score 在测试集和验证集上在上升， 而log loss都在下降；15轮之后，验证集开始出现过拟合， loss不在明显变化。"
   ]
  },
  {
   "cell_type": "markdown",
   "metadata": {},
   "source": [
    "对验证集使用LSTM进行验证"
   ]
  },
  {
   "cell_type": "code",
   "execution_count": 161,
   "metadata": {},
   "outputs": [
    {
     "name": "stdout",
     "output_type": "stream",
     "text": [
      "3016/3016 [==============================] - 18s 6ms/step\n",
      "[0.7492828712618319, 0.7599469496021221]\n"
     ]
    }
   ],
   "source": [
    "# 加载验证lstm 的模型权重\n",
    "model_path = 'saved_models/weights.LSTM.hdf5'\n",
    "LSTM_model.load_weights(model_path)\n",
    "print(LSTM_model.evaluate(X_val_sequences, y_val_labels))"
   ]
  },
  {
   "cell_type": "markdown",
   "metadata": {},
   "source": [
    "在验证集上，accuracy_score达到了0.7599，log loss损失为0.7492"
   ]
  },
  {
   "cell_type": "code",
   "execution_count": 162,
   "metadata": {},
   "outputs": [
    {
     "name": "stdout",
     "output_type": "stream",
     "text": [
      "3770/3770 [==============================] - 19s 5ms/step\n",
      "[0.7875605925324741, 0.7488063661426069]\n"
     ]
    }
   ],
   "source": [
    "print(LSTM_model.evaluate(X_test_sequences, y_test_labels))"
   ]
  },
  {
   "cell_type": "markdown",
   "metadata": {},
   "source": [
    "在测试集上，accuracy_score 是0.7488，  log_loss为0.7875，要比测试结果低一些，硬件设备限制，没有进行其他方案的尝试， 相对来说， 这个结果还可以。"
   ]
  },
  {
   "cell_type": "markdown",
   "metadata": {},
   "source": [
    "       accuracy_score      log_loss    \n",
    "测试集    0.7488           0.7875    \n",
    "验证集    0.7599           0.7492    "
   ]
  },
  {
   "cell_type": "markdown",
   "metadata": {},
   "source": [
    "总的来说， 我们LSTM模型，在测试集的预测的结果已经达到了我们定义的的基准模型的目标 70%。"
   ]
  }
 ],
 "metadata": {
  "kernelspec": {
   "display_name": "Python 3",
   "language": "python",
   "name": "python3"
  },
  "language_info": {
   "codemirror_mode": {
    "name": "ipython",
    "version": 3
   },
   "file_extension": ".py",
   "mimetype": "text/x-python",
   "name": "python",
   "nbconvert_exporter": "python",
   "pygments_lexer": "ipython3",
   "version": "3.6.6"
  }
 },
 "nbformat": 4,
 "nbformat_minor": 2
}

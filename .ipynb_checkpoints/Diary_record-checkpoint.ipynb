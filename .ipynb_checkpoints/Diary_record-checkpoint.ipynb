{
 "cells": [
  {
   "cell_type": "markdown",
   "metadata": {},
   "source": [
    "# 机器学习工程师纳米学位\n",
    "## diary\n",
    ">**提示：**Code 和 Markdown 区域可通过 **Shift + Enter** 快捷键运行。此外，Markdown可以通过双击进入编辑模式。"
   ]
  },
  {
   "cell_type": "markdown",
   "metadata": {},
   "source": [
    "# 分类 classification 和回归 regression 的区别\n",
    "\n",
    "分类任务与回归任务的不同， 与输入无关，是与输出相关\n",
    "如果输出是连续的，则属于回归 任务。 \n",
    "如果输出是小的离散集或离散集， 则属于分类任务\n",
    "\n",
    "a classification task or a regression  task is not about the input, It\\'s about the output\n",
    "if the output is continuous then it's regression, and if the output is small discrete or discrete set，then it is a classiftication\n",
    " \n",
    "\n",
    "\n"
   ]
  },
  {
   "cell_type": "markdown",
   "metadata": {},
   "source": [
    "# \n"
   ]
  }
 ],
 "metadata": {
  "kernelspec": {
   "display_name": "Python 2",
   "language": "python",
   "name": "python2"
  },
  "language_info": {
   "codemirror_mode": {
    "name": "ipython",
    "version": 2
   },
   "file_extension": ".py",
   "mimetype": "text/x-python",
   "name": "python",
   "nbconvert_exporter": "python",
   "pygments_lexer": "ipython2",
   "version": "2.7.14"
  }
 },
 "nbformat": 4,
 "nbformat_minor": 1
}
